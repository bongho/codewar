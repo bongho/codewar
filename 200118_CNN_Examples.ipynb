{
  "nbformat": 4,
  "nbformat_minor": 0,
  "metadata": {
    "colab": {
      "name": "200118_CNN_Examples",
      "provenance": [],
      "authorship_tag": "ABX9TyPUgo8zAPE6YRPjjJXQfXjg",
      "include_colab_link": true
    },
    "kernelspec": {
      "name": "python3",
      "display_name": "Python 3"
    },
    "accelerator": "GPU"
  },
  "cells": [
    {
      "cell_type": "markdown",
      "metadata": {
        "id": "view-in-github",
        "colab_type": "text"
      },
      "source": [
        "<a href=\"https://colab.research.google.com/github/bongho/codewar/blob/master/200118_CNN_Examples.ipynb\" target=\"_parent\"><img src=\"https://colab.research.google.com/assets/colab-badge.svg\" alt=\"Open In Colab\"/></a>"
      ]
    },
    {
      "cell_type": "code",
      "metadata": {
        "id": "NQtBo86KCI4Q",
        "colab_type": "code",
        "colab": {}
      },
      "source": [
        "from keras.models import *\n",
        "from keras.layers import *\n",
        "\n",
        "import numpy as np\n",
        "import matplotlib.pyplot as plt"
      ],
      "execution_count": 0,
      "outputs": []
    },
    {
      "cell_type": "code",
      "metadata": {
        "id": "kgtFdkXzCZZq",
        "colab_type": "code",
        "outputId": "e5938e3c-3e70-4336-d441-599b0c37520e",
        "colab": {
          "base_uri": "https://localhost:8080/",
          "height": 845
        }
      },
      "source": [
        "model = Sequential()\n",
        "model.add( Conv2D(16,(3,3), strides = 1, padding = 'same' ,input_shape=(32,32,3)))  #채널의 갯수=16\n",
        "model.add( Dropout(0.3))\n",
        "model.add(ReLU())\n",
        "model.add( Conv2D(16,(3,3), strides=1, padding='same'))\n",
        "model.add(ReLU())\n",
        "model.add(MaxPool2D())\n",
        "\n",
        "model.add( Conv2D(32,(3,3), strides=1, padding='same'))\n",
        "model.add( Dropout(0.3))\n",
        "model.add(ReLU())\n",
        "model.add( Conv2D(32,(3,3), strides=1, padding='same'))\n",
        "model.add(ReLU())\n",
        "model.add(MaxPool2D())\n",
        "\n",
        "model.add(Flatten())\n",
        "\n",
        "model.add(Dense(1024))\n",
        "model.add(ReLU())\n",
        "model.add(Dense(1024))\n",
        "model.add(ReLU())\n",
        "\n",
        "model.add(Dense(10))\n",
        "model.add( Softmax())\n",
        "\n",
        "\n",
        "model.summary()"
      ],
      "execution_count": 41,
      "outputs": [
        {
          "output_type": "stream",
          "text": [
            "Model: \"sequential_16\"\n",
            "_________________________________________________________________\n",
            "Layer (type)                 Output Shape              Param #   \n",
            "=================================================================\n",
            "conv2d_55 (Conv2D)           (None, 32, 32, 16)        448       \n",
            "_________________________________________________________________\n",
            "dropout_5 (Dropout)          (None, 32, 32, 16)        0         \n",
            "_________________________________________________________________\n",
            "re_lu_63 (ReLU)              (None, 32, 32, 16)        0         \n",
            "_________________________________________________________________\n",
            "conv2d_56 (Conv2D)           (None, 32, 32, 16)        2320      \n",
            "_________________________________________________________________\n",
            "re_lu_64 (ReLU)              (None, 32, 32, 16)        0         \n",
            "_________________________________________________________________\n",
            "max_pooling2d_27 (MaxPooling (None, 16, 16, 16)        0         \n",
            "_________________________________________________________________\n",
            "conv2d_57 (Conv2D)           (None, 16, 16, 32)        4640      \n",
            "_________________________________________________________________\n",
            "dropout_6 (Dropout)          (None, 16, 16, 32)        0         \n",
            "_________________________________________________________________\n",
            "re_lu_65 (ReLU)              (None, 16, 16, 32)        0         \n",
            "_________________________________________________________________\n",
            "conv2d_58 (Conv2D)           (None, 16, 16, 32)        9248      \n",
            "_________________________________________________________________\n",
            "re_lu_66 (ReLU)              (None, 16, 16, 32)        0         \n",
            "_________________________________________________________________\n",
            "max_pooling2d_28 (MaxPooling (None, 8, 8, 32)          0         \n",
            "_________________________________________________________________\n",
            "flatten_13 (Flatten)         (None, 2048)              0         \n",
            "_________________________________________________________________\n",
            "dense_19 (Dense)             (None, 1024)              2098176   \n",
            "_________________________________________________________________\n",
            "re_lu_67 (ReLU)              (None, 1024)              0         \n",
            "_________________________________________________________________\n",
            "dense_20 (Dense)             (None, 1024)              1049600   \n",
            "_________________________________________________________________\n",
            "re_lu_68 (ReLU)              (None, 1024)              0         \n",
            "_________________________________________________________________\n",
            "dense_21 (Dense)             (None, 10)                10250     \n",
            "_________________________________________________________________\n",
            "softmax_7 (Softmax)          (None, 10)                0         \n",
            "=================================================================\n",
            "Total params: 3,174,682\n",
            "Trainable params: 3,174,682\n",
            "Non-trainable params: 0\n",
            "_________________________________________________________________\n"
          ],
          "name": "stdout"
        }
      ]
    },
    {
      "cell_type": "code",
      "metadata": {
        "id": "TBmcRTliC3qt",
        "colab_type": "code",
        "outputId": "7a110f65-280e-41bc-944d-c92b12e4812b",
        "colab": {
          "base_uri": "https://localhost:8080/",
          "height": 35
        }
      },
      "source": [
        "from keras.datasets import cifar10\n",
        "from keras.utils import to_categorical \n",
        "(x_train,y_train),(x_test, y_test) = cifar10.load_data()\n",
        "x_train = x_train / 255.0\n",
        "y_train = to_categorical(y_train)\n",
        "x_train.shape,y_train.shape"
      ],
      "execution_count": 38,
      "outputs": [
        {
          "output_type": "execute_result",
          "data": {
            "text/plain": [
              "((50000, 32, 32, 3), (50000, 10))"
            ]
          },
          "metadata": {
            "tags": []
          },
          "execution_count": 38
        }
      ]
    },
    {
      "cell_type": "code",
      "metadata": {
        "id": "TicyFM6iFV9h",
        "colab_type": "code",
        "outputId": "21d53b1b-09fb-480d-8107-50075e764456",
        "colab": {
          "base_uri": "https://localhost:8080/",
          "height": 284
        }
      },
      "source": [
        "plt.imshow(x_train[0])"
      ],
      "execution_count": 39,
      "outputs": [
        {
          "output_type": "execute_result",
          "data": {
            "text/plain": [
              "<matplotlib.image.AxesImage at 0x7f464958a5f8>"
            ]
          },
          "metadata": {
            "tags": []
          },
          "execution_count": 39
        },
        {
          "output_type": "display_data",
          "data": {
            "image/png": "[encoded data removed]",
            "text/plain": [
              "<Figure size 432x288 with 1 Axes>"
            ]
          },
          "metadata": {
            "tags": []
          }
        }
      ]
    },
    {
      "cell_type": "code",
      "metadata": {
        "id": "1Ov_VXMSFjcx",
        "colab_type": "code",
        "outputId": "656da257-cf96-49ce-d5fc-7f96ca5df6fd",
        "colab": {
          "base_uri": "https://localhost:8080/",
          "height": 755
        }
      },
      "source": [
        "model.compile(loss = 'categorical_crossentropy', optimizer = 'adam', metrics = ['acc'])\n",
        "history = model.fit(x_train,y_train,batch_size = 128, epochs= 20, validation_split = 0.1)"
      ],
      "execution_count": 40,
      "outputs": [
        {
          "output_type": "stream",
          "text": [
            "Train on 45000 samples, validate on 5000 samples\n",
            "Epoch 1/20\n",
            "45000/45000 [==============================] - 7s 147us/step - loss: 1.4926 - acc: 0.4537 - val_loss: 1.1917 - val_acc: 0.5764\n",
            "Epoch 2/20\n",
            "45000/45000 [==============================] - 5s 114us/step - loss: 1.0433 - acc: 0.6286 - val_loss: 0.9822 - val_acc: 0.6500\n",
            "Epoch 3/20\n",
            "45000/45000 [==============================] - 5s 113us/step - loss: 0.8455 - acc: 0.7026 - val_loss: 0.9204 - val_acc: 0.6692\n",
            "Epoch 4/20\n",
            "45000/45000 [==============================] - 5s 113us/step - loss: 0.6921 - acc: 0.7560 - val_loss: 0.7915 - val_acc: 0.7262\n",
            "Epoch 5/20\n",
            "45000/45000 [==============================] - 5s 114us/step - loss: 0.5368 - acc: 0.8119 - val_loss: 0.8106 - val_acc: 0.7300\n",
            "Epoch 6/20\n",
            "45000/45000 [==============================] - 5s 115us/step - loss: 0.3794 - acc: 0.8668 - val_loss: 0.9003 - val_acc: 0.7208\n",
            "Epoch 7/20\n",
            "45000/45000 [==============================] - 5s 112us/step - loss: 0.2541 - acc: 0.9116 - val_loss: 1.0589 - val_acc: 0.7248\n",
            "Epoch 8/20\n",
            "45000/45000 [==============================] - 5s 105us/step - loss: 0.1569 - acc: 0.9455 - val_loss: 1.1948 - val_acc: 0.7280\n",
            "Epoch 9/20\n",
            "45000/45000 [==============================] - 5s 105us/step - loss: 0.1105 - acc: 0.9616 - val_loss: 1.3099 - val_acc: 0.7314\n",
            "Epoch 10/20\n",
            "45000/45000 [==============================] - 5s 110us/step - loss: 0.0931 - acc: 0.9678 - val_loss: 1.4071 - val_acc: 0.7274\n",
            "Epoch 11/20\n",
            "45000/45000 [==============================] - 5s 107us/step - loss: 0.0829 - acc: 0.9718 - val_loss: 1.5389 - val_acc: 0.7124\n",
            "Epoch 12/20\n",
            "45000/45000 [==============================] - 5s 109us/step - loss: 0.0662 - acc: 0.9781 - val_loss: 1.6693 - val_acc: 0.7150\n",
            "Epoch 13/20\n",
            "45000/45000 [==============================] - 5s 112us/step - loss: 0.0745 - acc: 0.9745 - val_loss: 1.5084 - val_acc: 0.7222\n",
            "Epoch 14/20\n",
            "45000/45000 [==============================] - 5s 105us/step - loss: 0.0534 - acc: 0.9816 - val_loss: 1.6652 - val_acc: 0.7224\n",
            "Epoch 15/20\n",
            "45000/45000 [==============================] - 5s 106us/step - loss: 0.0564 - acc: 0.9814 - val_loss: 1.6874 - val_acc: 0.7244\n",
            "Epoch 16/20\n",
            "45000/45000 [==============================] - 5s 103us/step - loss: 0.0564 - acc: 0.9813 - val_loss: 1.7711 - val_acc: 0.7126\n",
            "Epoch 17/20\n",
            "45000/45000 [==============================] - 5s 104us/step - loss: 0.0606 - acc: 0.9801 - val_loss: 1.6546 - val_acc: 0.7224\n",
            "Epoch 18/20\n",
            "45000/45000 [==============================] - 5s 104us/step - loss: 0.0329 - acc: 0.9889 - val_loss: 1.8104 - val_acc: 0.7224\n",
            "Epoch 19/20\n",
            "45000/45000 [==============================] - 5s 104us/step - loss: 0.0428 - acc: 0.9859 - val_loss: 1.8231 - val_acc: 0.7212\n",
            "Epoch 20/20\n",
            "45000/45000 [==============================] - 5s 102us/step - loss: 0.0517 - acc: 0.9828 - val_loss: 1.8066 - val_acc: 0.7114\n"
          ],
          "name": "stdout"
        }
      ]
    },
    {
      "cell_type": "code",
      "metadata": {
        "id": "d4COPD-7GiBx",
        "colab_type": "code",
        "colab": {
          "base_uri": "https://localhost:8080/",
          "height": 755
        },
        "outputId": "43aeb2db-568e-46a3-eed7-43f604a5d9db"
      },
      "source": [
        "model.compile(loss = 'categorical_crossentropy', optimizer = 'adam', metrics = ['acc'])\n",
        "history2 = model.fit(x_train,y_train,batch_size = 128, epochs= 20, validation_split = 0.1) #너무 과적합되어서 모델에서 drop_out을 설정"
      ],
      "execution_count": 42,
      "outputs": [
        {
          "output_type": "stream",
          "text": [
            "Train on 45000 samples, validate on 5000 samples\n",
            "Epoch 1/20\n",
            "45000/45000 [==============================] - 7s 163us/step - loss: 1.7088 - acc: 0.3707 - val_loss: 1.4887 - val_acc: 0.4660\n",
            "Epoch 2/20\n",
            "45000/45000 [==============================] - 5s 122us/step - loss: 1.3024 - acc: 0.5315 - val_loss: 1.2533 - val_acc: 0.5444\n",
            "Epoch 3/20\n",
            "45000/45000 [==============================] - 5s 120us/step - loss: 1.1264 - acc: 0.5966 - val_loss: 1.1030 - val_acc: 0.6060\n",
            "Epoch 4/20\n",
            "45000/45000 [==============================] - 5s 119us/step - loss: 0.9860 - acc: 0.6472 - val_loss: 1.0775 - val_acc: 0.6164\n",
            "Epoch 5/20\n",
            "45000/45000 [==============================] - 5s 117us/step - loss: 0.8650 - acc: 0.6918 - val_loss: 0.9440 - val_acc: 0.6728\n",
            "Epoch 6/20\n",
            "45000/45000 [==============================] - 5s 117us/step - loss: 0.7474 - acc: 0.7329 - val_loss: 0.8835 - val_acc: 0.6994\n",
            "Epoch 7/20\n",
            "45000/45000 [==============================] - 5s 116us/step - loss: 0.6351 - acc: 0.7751 - val_loss: 0.8945 - val_acc: 0.6992\n",
            "Epoch 8/20\n",
            "45000/45000 [==============================] - 5s 116us/step - loss: 0.5432 - acc: 0.8035 - val_loss: 0.8957 - val_acc: 0.7150\n",
            "Epoch 9/20\n",
            "45000/45000 [==============================] - 5s 116us/step - loss: 0.4615 - acc: 0.8366 - val_loss: 0.9209 - val_acc: 0.7076\n",
            "Epoch 10/20\n",
            "45000/45000 [==============================] - 5s 120us/step - loss: 0.3824 - acc: 0.8635 - val_loss: 0.9982 - val_acc: 0.7036\n",
            "Epoch 11/20\n",
            "45000/45000 [==============================] - 5s 118us/step - loss: 0.3126 - acc: 0.8878 - val_loss: 1.0646 - val_acc: 0.7066\n",
            "Epoch 12/20\n",
            "45000/45000 [==============================] - 5s 115us/step - loss: 0.2583 - acc: 0.9094 - val_loss: 1.1693 - val_acc: 0.6988\n",
            "Epoch 13/20\n",
            "45000/45000 [==============================] - 5s 119us/step - loss: 0.2173 - acc: 0.9221 - val_loss: 1.1861 - val_acc: 0.7058\n",
            "Epoch 14/20\n",
            "45000/45000 [==============================] - 5s 117us/step - loss: 0.1961 - acc: 0.9322 - val_loss: 1.2372 - val_acc: 0.7102\n",
            "Epoch 15/20\n",
            "45000/45000 [==============================] - 5s 117us/step - loss: 0.1710 - acc: 0.9404 - val_loss: 1.2973 - val_acc: 0.7070\n",
            "Epoch 16/20\n",
            "45000/45000 [==============================] - 5s 119us/step - loss: 0.1526 - acc: 0.9458 - val_loss: 1.3151 - val_acc: 0.7054\n",
            "Epoch 17/20\n",
            "45000/45000 [==============================] - 5s 116us/step - loss: 0.1355 - acc: 0.9515 - val_loss: 1.3910 - val_acc: 0.7054\n",
            "Epoch 18/20\n",
            "45000/45000 [==============================] - 5s 115us/step - loss: 0.1260 - acc: 0.9567 - val_loss: 1.3374 - val_acc: 0.7082\n",
            "Epoch 19/20\n",
            "45000/45000 [==============================] - 5s 117us/step - loss: 0.1161 - acc: 0.9594 - val_loss: 1.4324 - val_acc: 0.7130\n",
            "Epoch 20/20\n",
            "45000/45000 [==============================] - 5s 118us/step - loss: 0.0992 - acc: 0.9663 - val_loss: 1.4665 - val_acc: 0.7046\n"
          ],
          "name": "stdout"
        }
      ]
    },
    {
      "cell_type": "code",
      "metadata": {
        "id": "dB_pPGqMLb49",
        "colab_type": "code",
        "colab": {
          "base_uri": "https://localhost:8080/",
          "height": 501
        },
        "outputId": "fdf88858-23c0-42db-db23-a35274982829"
      },
      "source": [
        "result1 = history.history\n",
        "result2 = history2.history\n",
        "\n",
        "epochs = range(1,21)\n",
        "\n",
        "plt.figure(figsize=(10,8),facecolor='white')\n",
        "plt.plot(epochs, result1['loss'])\n",
        "plt.plot(epochs, result1['val_loss'])\n",
        "plt.plot(epochs, result2['loss'])\n",
        "plt.plot(epochs, result2['val_loss'])\n",
        "plt.legend(['loss','val_loss','loss_with_dr','val_loss_with_dr'])"
      ],
      "execution_count": 43,
      "outputs": [
        {
          "output_type": "execute_result",
          "data": {
            "text/plain": [
              "<matplotlib.legend.Legend at 0x7f46490b45f8>"
            ]
          },
          "metadata": {
            "tags": []
          },
          "execution_count": 43
        },
        {
          "output_type": "display_data",
          "data": {
            "image/png": "[encoded data removed]",
            "text/plain": [
              "<Figure size 720x576 with 1 Axes>"
            ]
          },
          "metadata": {
            "tags": []
          }
        }
      ]
    },
    {
      "cell_type": "code",
      "metadata": {
        "id": "DwrHwOQlMgKt",
        "colab_type": "code",
        "colab": {
          "base_uri": "https://localhost:8080/",
          "height": 1000
        },
        "outputId": "b424f97a-8e3a-42f7-aeac-0d34e42ff18c"
      },
      "source": [
        "model3 = Sequential()\n",
        "\n",
        "model3.add( Conv2D(16,(3,3), strides = 1, padding = 'same' ,input_shape=(32,32,3)))  #채널의 갯수=16\n",
        "model3.add( Dropout(0.3))\n",
        "model3.add(ReLU())\n",
        "model3.add( Conv2D(16,(3,3), strides = 1, padding = 'same' ,input_shape=(32,32,3)))  #채널의 갯수=16\n",
        "model3.add( Dropout(0.3))\n",
        "model3.add(ReLU())\n",
        "model3.add(MaxPool2D())\n",
        "\n",
        "\n",
        "model3.add( Conv2D(32,(3,3), strides = 1, padding = 'same' ,input_shape=(32,32,3)))  #채널의 갯수=16\n",
        "model3.add( Dropout(0.3))\n",
        "model3.add(ReLU())\n",
        "model3.add( Conv2D(32,(3,3), strides = 1, padding = 'same' ,input_shape=(32,32,3)))  #채널의 갯수=16\n",
        "model3.add( Dropout(0.3))\n",
        "model3.add(ReLU())\n",
        "model3.add(MaxPool2D())\n",
        "\n",
        "\n",
        "model3.add( Conv2D(64,(3,3), strides = 1, padding = 'same' ,input_shape=(32,32,3)))  #채널의 갯수=16\n",
        "model3.add( Dropout(0.3))\n",
        "model3.add(ReLU())\n",
        "model3.add( Conv2D(64,(3,3), strides = 1, padding = 'same' ,input_shape=(32,32,3)))  #채널의 갯수=16\n",
        "model3.add( Dropout(0.3))\n",
        "model3.add(ReLU())\n",
        "model3.add(MaxPool2D())\n",
        "\n",
        "model3.add(GlobalAveragePooling2D())\n",
        "\n",
        "model3.add(Dense(10))\n",
        "model3.add( Softmax())\n",
        "\n",
        "\n",
        "model3.summary()"
      ],
      "execution_count": 51,
      "outputs": [
        {
          "output_type": "stream",
          "text": [
            "Model: \"sequential_23\"\n",
            "_________________________________________________________________\n",
            "Layer (type)                 Output Shape              Param #   \n",
            "=================================================================\n",
            "conv2d_80 (Conv2D)           (None, 32, 32, 16)        448       \n",
            "_________________________________________________________________\n",
            "dropout_19 (Dropout)         (None, 32, 32, 16)        0         \n",
            "_________________________________________________________________\n",
            "re_lu_90 (ReLU)              (None, 32, 32, 16)        0         \n",
            "_________________________________________________________________\n",
            "conv2d_81 (Conv2D)           (None, 32, 32, 16)        2320      \n",
            "_________________________________________________________________\n",
            "dropout_20 (Dropout)         (None, 32, 32, 16)        0         \n",
            "_________________________________________________________________\n",
            "re_lu_91 (ReLU)              (None, 32, 32, 16)        0         \n",
            "_________________________________________________________________\n",
            "max_pooling2d_44 (MaxPooling (None, 16, 16, 16)        0         \n",
            "_________________________________________________________________\n",
            "conv2d_82 (Conv2D)           (None, 16, 16, 32)        4640      \n",
            "_________________________________________________________________\n",
            "dropout_21 (Dropout)         (None, 16, 16, 32)        0         \n",
            "_________________________________________________________________\n",
            "re_lu_92 (ReLU)              (None, 16, 16, 32)        0         \n",
            "_________________________________________________________________\n",
            "conv2d_83 (Conv2D)           (None, 16, 16, 32)        9248      \n",
            "_________________________________________________________________\n",
            "dropout_22 (Dropout)         (None, 16, 16, 32)        0         \n",
            "_________________________________________________________________\n",
            "re_lu_93 (ReLU)              (None, 16, 16, 32)        0         \n",
            "_________________________________________________________________\n",
            "max_pooling2d_45 (MaxPooling (None, 8, 8, 32)          0         \n",
            "_________________________________________________________________\n",
            "conv2d_84 (Conv2D)           (None, 8, 8, 64)          18496     \n",
            "_________________________________________________________________\n",
            "dropout_23 (Dropout)         (None, 8, 8, 64)          0         \n",
            "_________________________________________________________________\n",
            "re_lu_94 (ReLU)              (None, 8, 8, 64)          0         \n",
            "_________________________________________________________________\n",
            "conv2d_85 (Conv2D)           (None, 8, 8, 64)          36928     \n",
            "_________________________________________________________________\n",
            "dropout_24 (Dropout)         (None, 8, 8, 64)          0         \n",
            "_________________________________________________________________\n",
            "re_lu_95 (ReLU)              (None, 8, 8, 64)          0         \n",
            "_________________________________________________________________\n",
            "max_pooling2d_46 (MaxPooling (None, 4, 4, 64)          0         \n",
            "_________________________________________________________________\n",
            "global_average_pooling2d_6 ( (None, 64)                0         \n",
            "_________________________________________________________________\n",
            "dense_27 (Dense)             (None, 10)                650       \n",
            "_________________________________________________________________\n",
            "softmax_13 (Softmax)         (None, 10)                0         \n",
            "=================================================================\n",
            "Total params: 72,730\n",
            "Trainable params: 72,730\n",
            "Non-trainable params: 0\n",
            "_________________________________________________________________\n"
          ],
          "name": "stdout"
        }
      ]
    },
    {
      "cell_type": "code",
      "metadata": {
        "id": "vUH8rxjHM0qX",
        "colab_type": "code",
        "colab": {
          "base_uri": "https://localhost:8080/",
          "height": 755
        },
        "outputId": "38535e95-b88d-4310-b64a-47292932e72d"
      },
      "source": [
        "model3.compile(loss = 'categorical_crossentropy', optimizer = 'adam', metrics = ['acc'])\n",
        "history3 = model3.fit(x_train,y_train,batch_size = 128, epochs= 20, validation_split = 0.1) #너무 과적합되어서 모델에서 drop_out을 설정"
      ],
      "execution_count": 52,
      "outputs": [
        {
          "output_type": "stream",
          "text": [
            "Train on 45000 samples, validate on 5000 samples\n",
            "Epoch 1/20\n",
            "45000/45000 [==============================] - 7s 159us/step - loss: 1.9035 - acc: 0.2854 - val_loss: 1.9223 - val_acc: 0.3284\n",
            "Epoch 2/20\n",
            "45000/45000 [==============================] - 5s 113us/step - loss: 1.5753 - acc: 0.4182 - val_loss: 1.6799 - val_acc: 0.4186\n",
            "Epoch 3/20\n",
            "45000/45000 [==============================] - 5s 112us/step - loss: 1.4235 - acc: 0.4798 - val_loss: 1.5470 - val_acc: 0.4652\n",
            "Epoch 4/20\n",
            "45000/45000 [==============================] - 5s 114us/step - loss: 1.3355 - acc: 0.5157 - val_loss: 1.4887 - val_acc: 0.4852\n",
            "Epoch 5/20\n",
            "45000/45000 [==============================] - 5s 115us/step - loss: 1.2650 - acc: 0.5421 - val_loss: 1.4254 - val_acc: 0.5230\n",
            "Epoch 6/20\n",
            "45000/45000 [==============================] - 5s 115us/step - loss: 1.2131 - acc: 0.5614 - val_loss: 1.3425 - val_acc: 0.5648\n",
            "Epoch 7/20\n",
            "45000/45000 [==============================] - 5s 113us/step - loss: 1.1666 - acc: 0.5834 - val_loss: 1.2902 - val_acc: 0.5816\n",
            "Epoch 8/20\n",
            "45000/45000 [==============================] - 5s 113us/step - loss: 1.1219 - acc: 0.5987 - val_loss: 1.2697 - val_acc: 0.5710\n",
            "Epoch 9/20\n",
            "45000/45000 [==============================] - 5s 116us/step - loss: 1.0931 - acc: 0.6082 - val_loss: 1.2612 - val_acc: 0.6032\n",
            "Epoch 10/20\n",
            "45000/45000 [==============================] - 5s 115us/step - loss: 1.0502 - acc: 0.6257 - val_loss: 1.2115 - val_acc: 0.6030\n",
            "Epoch 11/20\n",
            "45000/45000 [==============================] - 5s 115us/step - loss: 1.0241 - acc: 0.6334 - val_loss: 1.1403 - val_acc: 0.6488\n",
            "Epoch 12/20\n",
            "45000/45000 [==============================] - 5s 114us/step - loss: 1.0074 - acc: 0.6409 - val_loss: 1.1911 - val_acc: 0.5898\n",
            "Epoch 13/20\n",
            "45000/45000 [==============================] - 5s 114us/step - loss: 0.9819 - acc: 0.6524 - val_loss: 1.1258 - val_acc: 0.6428\n",
            "Epoch 14/20\n",
            "45000/45000 [==============================] - 5s 119us/step - loss: 0.9606 - acc: 0.6585 - val_loss: 1.1092 - val_acc: 0.6374\n",
            "Epoch 15/20\n",
            "45000/45000 [==============================] - 5s 119us/step - loss: 0.9444 - acc: 0.6635 - val_loss: 1.0913 - val_acc: 0.6376\n",
            "Epoch 16/20\n",
            "45000/45000 [==============================] - 5s 112us/step - loss: 0.9239 - acc: 0.6738 - val_loss: 1.0681 - val_acc: 0.6378\n",
            "Epoch 17/20\n",
            "45000/45000 [==============================] - 5s 114us/step - loss: 0.9054 - acc: 0.6798 - val_loss: 1.0696 - val_acc: 0.6466\n",
            "Epoch 18/20\n",
            "45000/45000 [==============================] - 5s 112us/step - loss: 0.8989 - acc: 0.6823 - val_loss: 1.0220 - val_acc: 0.6782\n",
            "Epoch 19/20\n",
            "45000/45000 [==============================] - 5s 113us/step - loss: 0.8815 - acc: 0.6863 - val_loss: 1.0026 - val_acc: 0.6806\n",
            "Epoch 20/20\n",
            "45000/45000 [==============================] - 5s 114us/step - loss: 0.8658 - acc: 0.6934 - val_loss: 0.9907 - val_acc: 0.6774\n"
          ],
          "name": "stdout"
        }
      ]
    },
    {
      "cell_type": "code",
      "metadata": {
        "id": "4KRp8bi3NX5D",
        "colab_type": "code",
        "colab": {}
      },
      "source": [
        "result1 = history.history\n",
        "result2 = history2.history\n",
        "result3 = history3.history\n",
        "\n",
        "epochs = range(1,21)\n",
        "\n",
        "plt.figure(figsize=(10,8),facecolor='white')\n",
        "plt.plot(epochs, result1['loss'])\n",
        "plt.plot(epochs, result1['val_loss'])\n",
        "plt.plot(epochs, result2['loss'])\n",
        "plt.plot(epochs, result2['val_loss'])\n",
        "plt.legend(['loss','val_loss','loss_with_dr','val_loss_with_dr'])"
      ],
      "execution_count": 0,
      "outputs": []
    }
  ]
}