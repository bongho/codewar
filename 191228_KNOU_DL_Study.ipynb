{
  "nbformat": 4,
  "nbformat_minor": 0,
  "metadata": {
    "colab": {
      "name": "191228_KNOU_DL_Study",
      "provenance": [],
      "collapsed_sections": [],
      "include_colab_link": true
    },
    "kernelspec": {
      "name": "python3",
      "display_name": "Python 3"
    },
    "accelerator": "GPU"
  },
  "cells": [
    {
      "cell_type": "markdown",
      "metadata": {
        "id": "view-in-github",
        "colab_type": "text"
      },
      "source": [
        "<a href=\"https://colab.research.google.com/github/bongho/codewar/blob/master/191228_KNOU_DL_Study.ipynb\" target=\"_parent\"><img src=\"https://colab.research.google.com/assets/colab-badge.svg\" alt=\"Open In Colab\"/></a>"
      ]
    },
    {
      "cell_type": "code",
      "metadata": {
        "id": "inX7ztUlO1e-",
        "colab_type": "code",
        "outputId": "f748999d-2d4d-4368-a299-53ec10b0fd1a",
        "colab": {
          "base_uri": "https://localhost:8080/",
          "height": 81
        }
      },
      "source": [
        "import numpy as np\n",
        "import pandas as pd\n",
        "import matplotlib.pyplot as plt\n",
        "import keras\n",
        "from keras import models\n",
        "from keras import layers"
      ],
      "execution_count": 0,
      "outputs": [
        {
          "output_type": "stream",
          "text": [
            "Using TensorFlow backend.\n"
          ],
          "name": "stderr"
        },
        {
          "output_type": "display_data",
          "data": {
            "text/html": [
              "<p style=\"color: red;\">\n",
              "The default version of TensorFlow in Colab will soon switch to TensorFlow 2.x.<br>\n",
              "We recommend you <a href=\"https://www.tensorflow.org/guide/migrate\" target=\"_blank\">upgrade</a> now \n",
              "or ensure your notebook will continue to use TensorFlow 1.x via the <code>%tensorflow_version 1.x</code> magic:\n",
              "<a href=\"https://colab.research.google.com/notebooks/tensorflow_version.ipynb\" target=\"_blank\">more info</a>.</p>\n"
            ],
            "text/plain": [
              "<IPython.core.display.HTML object>"
            ]
          },
          "metadata": {
            "tags": []
          }
        }
      ]
    },
    {
      "cell_type": "code",
      "metadata": {
        "id": "By299Fu8Q-z3",
        "colab_type": "code",
        "outputId": "6294d230-3aca-4194-fa87-59bc5d6c6e6e",
        "colab": {
          "base_uri": "https://localhost:8080/",
          "height": 402
        }
      },
      "source": [
        "model = models.Sequential()\n",
        "model.add(layers.Flatten(input_shape=(28,28)) )\n",
        "model.add(layers.Dense(16))\n",
        "model.add(layers.ReLU())\n",
        "\n",
        "model.add(layers.Dense(16))\n",
        "model.add(layers.ReLU())\n",
        "\n",
        "model.add(layers.Dense(10))\n",
        "model.add(layers.Softmax())\n",
        "model.summary()"
      ],
      "execution_count": 0,
      "outputs": [
        {
          "output_type": "stream",
          "text": [
            "Model: \"sequential_4\"\n",
            "_________________________________________________________________\n",
            "Layer (type)                 Output Shape              Param #   \n",
            "=================================================================\n",
            "flatten_4 (Flatten)          (None, 784)               0         \n",
            "_________________________________________________________________\n",
            "dense_9 (Dense)              (None, 16)                12560     \n",
            "_________________________________________________________________\n",
            "re_lu_6 (ReLU)               (None, 16)                0         \n",
            "_________________________________________________________________\n",
            "dense_10 (Dense)             (None, 16)                272       \n",
            "_________________________________________________________________\n",
            "re_lu_7 (ReLU)               (None, 16)                0         \n",
            "_________________________________________________________________\n",
            "dense_11 (Dense)             (None, 10)                170       \n",
            "_________________________________________________________________\n",
            "softmax_4 (Softmax)          (None, 10)                0         \n",
            "=================================================================\n",
            "Total params: 13,002\n",
            "Trainable params: 13,002\n",
            "Non-trainable params: 0\n",
            "_________________________________________________________________\n"
          ],
          "name": "stdout"
        }
      ]
    },
    {
      "cell_type": "code",
      "metadata": {
        "id": "sBiNM-YLeNHf",
        "colab_type": "code",
        "colab": {}
      },
      "source": [
        "from keras.datasets import mnist\n",
        "(x_train, y_train), (x_test,y_test) = mnist.load_data()"
      ],
      "execution_count": 0,
      "outputs": []
    },
    {
      "cell_type": "code",
      "metadata": {
        "id": "hINr7tu0Ce63",
        "colab_type": "code",
        "outputId": "77a3eb48-fe5a-424c-8f54-4f7cd576258a",
        "colab": {
          "base_uri": "https://localhost:8080/",
          "height": 282
        }
      },
      "source": [
        "x_train.shape\n",
        "plt.imshow(x_train[2])"
      ],
      "execution_count": 0,
      "outputs": [
        {
          "output_type": "execute_result",
          "data": {
            "text/plain": [
              "<matplotlib.image.AxesImage at 0x7fa831d49fd0>"
            ]
          },
          "metadata": {
            "tags": []
          },
          "execution_count": 25
        },
        {
          "output_type": "display_data",
          "data": {
            "image/png": "[encoded data removed]",
            "text/plain": [
              "<Figure size 432x288 with 1 Axes>"
            ]
          },
          "metadata": {
            "tags": []
          }
        }
      ]
    },
    {
      "cell_type": "code",
      "metadata": {
        "id": "eKqbcjJ5Eo99",
        "colab_type": "code",
        "outputId": "99e6d176-47f7-468c-c3e0-db2406c0e7e4",
        "colab": {
          "base_uri": "https://localhost:8080/",
          "height": 52
        }
      },
      "source": [
        "from keras.utils import to_categorical\n",
        "print(y_train.shape)\n",
        "y_train_oh = to_categorical(y_train)\n",
        "y_train_oh.shape"
      ],
      "execution_count": 0,
      "outputs": [
        {
          "output_type": "stream",
          "text": [
            "(60000,)\n"
          ],
          "name": "stdout"
        },
        {
          "output_type": "execute_result",
          "data": {
            "text/plain": [
              "(60000, 10)"
            ]
          },
          "metadata": {
            "tags": []
          },
          "execution_count": 36
        }
      ]
    },
    {
      "cell_type": "code",
      "metadata": {
        "id": "mimmiRQNGcHs",
        "colab_type": "code",
        "outputId": "98f1f25a-83aa-4ea9-f3fa-f537efb76f6c",
        "colab": {
          "base_uri": "https://localhost:8080/",
          "height": 1000
        }
      },
      "source": [
        "model.compile(loss='categorical_crossentropy',optimizer=\"Adam\",metrics= ['acc'])\n",
        "history = model.fit(x_train,y_train_oh,epochs=100, batch_size=256, validation_split=0.1,verbose=1)"
      ],
      "execution_count": 0,
      "outputs": [
        {
          "output_type": "stream",
          "text": [
            "Train on 54000 samples, validate on 6000 samples\n",
            "Epoch 1/100\n",
            "54000/54000 [==============================] - 2s 29us/step - loss: 3.1410 - acc: 0.4598 - val_loss: 1.2361 - val_acc: 0.6045\n",
            "Epoch 2/100\n",
            "54000/54000 [==============================] - 1s 16us/step - loss: 1.1191 - acc: 0.6494 - val_loss: 0.8946 - val_acc: 0.7123\n",
            "Epoch 3/100\n",
            "54000/54000 [==============================] - 1s 18us/step - loss: 0.8415 - acc: 0.7647 - val_loss: 0.6241 - val_acc: 0.8320\n",
            "Epoch 4/100\n",
            "54000/54000 [==============================] - 1s 17us/step - loss: 0.6497 - acc: 0.8393 - val_loss: 0.4718 - val_acc: 0.8873\n",
            "Epoch 5/100\n",
            "54000/54000 [==============================] - 1s 17us/step - loss: 0.5334 - acc: 0.8706 - val_loss: 0.4314 - val_acc: 0.8998\n",
            "Epoch 6/100\n",
            "54000/54000 [==============================] - 1s 18us/step - loss: 0.4760 - acc: 0.8846 - val_loss: 0.3842 - val_acc: 0.9078\n",
            "Epoch 7/100\n",
            "54000/54000 [==============================] - 1s 16us/step - loss: 0.4335 - acc: 0.8948 - val_loss: 0.3751 - val_acc: 0.9105\n",
            "Epoch 8/100\n",
            "54000/54000 [==============================] - 1s 16us/step - loss: 0.4048 - acc: 0.9003 - val_loss: 0.3606 - val_acc: 0.9122\n",
            "Epoch 9/100\n",
            "54000/54000 [==============================] - 1s 18us/step - loss: 0.3841 - acc: 0.9036 - val_loss: 0.3363 - val_acc: 0.9202\n",
            "Epoch 10/100\n",
            "54000/54000 [==============================] - 1s 16us/step - loss: 0.3658 - acc: 0.9081 - val_loss: 0.3691 - val_acc: 0.9137\n",
            "Epoch 11/100\n",
            "54000/54000 [==============================] - 1s 18us/step - loss: 0.3533 - acc: 0.9113 - val_loss: 0.3097 - val_acc: 0.9248\n",
            "Epoch 12/100\n",
            "54000/54000 [==============================] - 1s 17us/step - loss: 0.3329 - acc: 0.9148 - val_loss: 0.3049 - val_acc: 0.9268\n",
            "Epoch 13/100\n",
            "54000/54000 [==============================] - 1s 16us/step - loss: 0.3237 - acc: 0.9170 - val_loss: 0.2987 - val_acc: 0.9275\n",
            "Epoch 14/100\n",
            "54000/54000 [==============================] - 1s 16us/step - loss: 0.3149 - acc: 0.9186 - val_loss: 0.3043 - val_acc: 0.9253\n",
            "Epoch 15/100\n",
            "54000/54000 [==============================] - 1s 16us/step - loss: 0.3081 - acc: 0.9201 - val_loss: 0.2948 - val_acc: 0.9280\n",
            "Epoch 16/100\n",
            "54000/54000 [==============================] - 1s 17us/step - loss: 0.2963 - acc: 0.9226 - val_loss: 0.2910 - val_acc: 0.9300\n",
            "Epoch 17/100\n",
            "54000/54000 [==============================] - 1s 16us/step - loss: 0.2875 - acc: 0.9241 - val_loss: 0.2871 - val_acc: 0.9332\n",
            "Epoch 18/100\n",
            "54000/54000 [==============================] - 1s 17us/step - loss: 0.2841 - acc: 0.9250 - val_loss: 0.2882 - val_acc: 0.9307\n",
            "Epoch 19/100\n",
            "54000/54000 [==============================] - 1s 16us/step - loss: 0.2812 - acc: 0.9259 - val_loss: 0.2928 - val_acc: 0.9263\n",
            "Epoch 20/100\n",
            "54000/54000 [==============================] - 1s 16us/step - loss: 0.2733 - acc: 0.9281 - val_loss: 0.2778 - val_acc: 0.9312\n",
            "Epoch 21/100\n",
            "54000/54000 [==============================] - 1s 16us/step - loss: 0.2711 - acc: 0.9279 - val_loss: 0.2671 - val_acc: 0.9312\n",
            "Epoch 22/100\n",
            "54000/54000 [==============================] - 1s 16us/step - loss: 0.2664 - acc: 0.9290 - val_loss: 0.2792 - val_acc: 0.9340\n",
            "Epoch 23/100\n",
            "54000/54000 [==============================] - 1s 17us/step - loss: 0.2563 - acc: 0.9316 - val_loss: 0.2634 - val_acc: 0.9342\n",
            "Epoch 24/100\n",
            "54000/54000 [==============================] - 1s 17us/step - loss: 0.2499 - acc: 0.9329 - val_loss: 0.2591 - val_acc: 0.9340\n",
            "Epoch 25/100\n",
            "54000/54000 [==============================] - 1s 16us/step - loss: 0.2520 - acc: 0.9317 - val_loss: 0.2646 - val_acc: 0.9377\n",
            "Epoch 26/100\n",
            "54000/54000 [==============================] - 1s 16us/step - loss: 0.2501 - acc: 0.9329 - val_loss: 0.2559 - val_acc: 0.9358\n",
            "Epoch 27/100\n",
            "54000/54000 [==============================] - 1s 16us/step - loss: 0.2456 - acc: 0.9334 - val_loss: 0.2642 - val_acc: 0.9338\n",
            "Epoch 28/100\n",
            "54000/54000 [==============================] - 1s 16us/step - loss: 0.2410 - acc: 0.9351 - val_loss: 0.2568 - val_acc: 0.9367\n",
            "Epoch 29/100\n",
            "54000/54000 [==============================] - 1s 16us/step - loss: 0.2387 - acc: 0.9352 - val_loss: 0.2462 - val_acc: 0.9388\n",
            "Epoch 30/100\n",
            "54000/54000 [==============================] - 1s 15us/step - loss: 0.2323 - acc: 0.9363 - val_loss: 0.2545 - val_acc: 0.9378\n",
            "Epoch 31/100\n",
            "54000/54000 [==============================] - 1s 17us/step - loss: 0.2320 - acc: 0.9362 - val_loss: 0.2527 - val_acc: 0.9368\n",
            "Epoch 32/100\n",
            "54000/54000 [==============================] - 1s 16us/step - loss: 0.2295 - acc: 0.9365 - val_loss: 0.2531 - val_acc: 0.9363\n",
            "Epoch 33/100\n",
            "54000/54000 [==============================] - 1s 16us/step - loss: 0.2268 - acc: 0.9382 - val_loss: 0.2521 - val_acc: 0.9392\n",
            "Epoch 34/100\n",
            "54000/54000 [==============================] - 1s 16us/step - loss: 0.2223 - acc: 0.9394 - val_loss: 0.2368 - val_acc: 0.9402\n",
            "Epoch 35/100\n",
            "54000/54000 [==============================] - 1s 17us/step - loss: 0.2215 - acc: 0.9399 - val_loss: 0.2475 - val_acc: 0.9385\n",
            "Epoch 36/100\n",
            "54000/54000 [==============================] - 1s 16us/step - loss: 0.2211 - acc: 0.9390 - val_loss: 0.2573 - val_acc: 0.9367\n",
            "Epoch 37/100\n",
            "54000/54000 [==============================] - 1s 18us/step - loss: 0.2185 - acc: 0.9393 - val_loss: 0.2554 - val_acc: 0.9393\n",
            "Epoch 38/100\n",
            "54000/54000 [==============================] - 1s 17us/step - loss: 0.2192 - acc: 0.9389 - val_loss: 0.2551 - val_acc: 0.9373\n",
            "Epoch 39/100\n",
            "54000/54000 [==============================] - 1s 16us/step - loss: 0.2109 - acc: 0.9414 - val_loss: 0.2598 - val_acc: 0.9397\n",
            "Epoch 40/100\n",
            "54000/54000 [==============================] - 1s 16us/step - loss: 0.2123 - acc: 0.9414 - val_loss: 0.2443 - val_acc: 0.9400\n",
            "Epoch 41/100\n",
            "54000/54000 [==============================] - 1s 17us/step - loss: 0.2086 - acc: 0.9426 - val_loss: 0.2451 - val_acc: 0.9432\n",
            "Epoch 42/100\n",
            "54000/54000 [==============================] - 1s 16us/step - loss: 0.2036 - acc: 0.9439 - val_loss: 0.2412 - val_acc: 0.9413\n",
            "Epoch 43/100\n",
            "54000/54000 [==============================] - 1s 17us/step - loss: 0.2053 - acc: 0.9431 - val_loss: 0.2354 - val_acc: 0.9420\n",
            "Epoch 44/100\n",
            "54000/54000 [==============================] - 1s 17us/step - loss: 0.2012 - acc: 0.9434 - val_loss: 0.2494 - val_acc: 0.9367\n",
            "Epoch 45/100\n",
            "54000/54000 [==============================] - 1s 17us/step - loss: 0.2040 - acc: 0.9423 - val_loss: 0.2429 - val_acc: 0.9400\n",
            "Epoch 46/100\n",
            "54000/54000 [==============================] - 1s 17us/step - loss: 0.2016 - acc: 0.9439 - val_loss: 0.2411 - val_acc: 0.9375\n",
            "Epoch 47/100\n",
            "54000/54000 [==============================] - 1s 17us/step - loss: 0.2007 - acc: 0.9437 - val_loss: 0.2448 - val_acc: 0.9432\n",
            "Epoch 48/100\n",
            "54000/54000 [==============================] - 1s 16us/step - loss: 0.1983 - acc: 0.9442 - val_loss: 0.2360 - val_acc: 0.9432\n",
            "Epoch 49/100\n",
            "54000/54000 [==============================] - 1s 15us/step - loss: 0.1909 - acc: 0.9466 - val_loss: 0.2317 - val_acc: 0.9450\n",
            "Epoch 50/100\n",
            "54000/54000 [==============================] - 1s 17us/step - loss: 0.1948 - acc: 0.9455 - val_loss: 0.2337 - val_acc: 0.9455\n",
            "Epoch 51/100\n",
            "54000/54000 [==============================] - 1s 16us/step - loss: 0.1880 - acc: 0.9476 - val_loss: 0.2391 - val_acc: 0.9457\n",
            "Epoch 52/100\n",
            "54000/54000 [==============================] - 1s 17us/step - loss: 0.1821 - acc: 0.9485 - val_loss: 0.2391 - val_acc: 0.9428\n",
            "Epoch 53/100\n",
            "54000/54000 [==============================] - 1s 17us/step - loss: 0.1856 - acc: 0.9478 - val_loss: 0.2353 - val_acc: 0.9413\n",
            "Epoch 54/100\n",
            "54000/54000 [==============================] - 1s 16us/step - loss: 0.1889 - acc: 0.9466 - val_loss: 0.2515 - val_acc: 0.9378\n",
            "Epoch 55/100\n",
            "54000/54000 [==============================] - 1s 16us/step - loss: 0.1854 - acc: 0.9470 - val_loss: 0.2321 - val_acc: 0.9417\n",
            "Epoch 56/100\n",
            "54000/54000 [==============================] - 1s 16us/step - loss: 0.1808 - acc: 0.9488 - val_loss: 0.2279 - val_acc: 0.9422\n",
            "Epoch 57/100\n",
            "54000/54000 [==============================] - 1s 17us/step - loss: 0.1806 - acc: 0.9485 - val_loss: 0.2312 - val_acc: 0.9437\n",
            "Epoch 58/100\n",
            "54000/54000 [==============================] - 1s 18us/step - loss: 0.1762 - acc: 0.9501 - val_loss: 0.2464 - val_acc: 0.9382\n",
            "Epoch 59/100\n",
            "54000/54000 [==============================] - 1s 17us/step - loss: 0.1772 - acc: 0.9498 - val_loss: 0.2287 - val_acc: 0.9450\n",
            "Epoch 60/100\n",
            "54000/54000 [==============================] - 1s 17us/step - loss: 0.1722 - acc: 0.9509 - val_loss: 0.2447 - val_acc: 0.9402\n",
            "Epoch 61/100\n",
            "54000/54000 [==============================] - 1s 17us/step - loss: 0.1736 - acc: 0.9500 - val_loss: 0.2470 - val_acc: 0.9398\n",
            "Epoch 62/100\n",
            "54000/54000 [==============================] - 1s 18us/step - loss: 0.1715 - acc: 0.9513 - val_loss: 0.2442 - val_acc: 0.9382\n",
            "Epoch 63/100\n",
            "54000/54000 [==============================] - 1s 17us/step - loss: 0.1699 - acc: 0.9516 - val_loss: 0.2364 - val_acc: 0.9412\n",
            "Epoch 64/100\n",
            "54000/54000 [==============================] - 1s 17us/step - loss: 0.1668 - acc: 0.9519 - val_loss: 0.2335 - val_acc: 0.9418\n",
            "Epoch 65/100\n",
            "54000/54000 [==============================] - 1s 16us/step - loss: 0.1669 - acc: 0.9523 - val_loss: 0.2456 - val_acc: 0.9417\n",
            "Epoch 66/100\n",
            "54000/54000 [==============================] - 1s 17us/step - loss: 0.1715 - acc: 0.9510 - val_loss: 0.2561 - val_acc: 0.9405\n",
            "Epoch 67/100\n",
            "54000/54000 [==============================] - 1s 17us/step - loss: 0.1698 - acc: 0.9505 - val_loss: 0.2525 - val_acc: 0.9372\n",
            "Epoch 68/100\n",
            "54000/54000 [==============================] - 1s 17us/step - loss: 0.1672 - acc: 0.9517 - val_loss: 0.2353 - val_acc: 0.9407\n",
            "Epoch 69/100\n",
            "54000/54000 [==============================] - 1s 18us/step - loss: 0.1640 - acc: 0.9532 - val_loss: 0.2419 - val_acc: 0.9417\n",
            "Epoch 70/100\n",
            "54000/54000 [==============================] - 1s 17us/step - loss: 0.1633 - acc: 0.9533 - val_loss: 0.2465 - val_acc: 0.9432\n",
            "Epoch 71/100\n",
            "54000/54000 [==============================] - 1s 16us/step - loss: 0.1616 - acc: 0.9540 - val_loss: 0.2322 - val_acc: 0.9458\n",
            "Epoch 72/100\n",
            "54000/54000 [==============================] - 1s 16us/step - loss: 0.1628 - acc: 0.9537 - val_loss: 0.2430 - val_acc: 0.9402\n",
            "Epoch 73/100\n",
            "54000/54000 [==============================] - 1s 17us/step - loss: 0.1601 - acc: 0.9546 - val_loss: 0.2261 - val_acc: 0.9458\n",
            "Epoch 74/100\n",
            "54000/54000 [==============================] - 1s 16us/step - loss: 0.1589 - acc: 0.9547 - val_loss: 0.2391 - val_acc: 0.9448\n",
            "Epoch 75/100\n",
            "54000/54000 [==============================] - 1s 18us/step - loss: 0.1570 - acc: 0.9539 - val_loss: 0.2383 - val_acc: 0.9423\n",
            "Epoch 76/100\n",
            "54000/54000 [==============================] - 1s 17us/step - loss: 0.1569 - acc: 0.9548 - val_loss: 0.2423 - val_acc: 0.9423\n",
            "Epoch 77/100\n",
            "54000/54000 [==============================] - 1s 17us/step - loss: 0.1523 - acc: 0.9561 - val_loss: 0.2489 - val_acc: 0.9407\n",
            "Epoch 78/100\n",
            "54000/54000 [==============================] - 1s 17us/step - loss: 0.1535 - acc: 0.9557 - val_loss: 0.2381 - val_acc: 0.9413\n",
            "Epoch 79/100\n",
            "54000/54000 [==============================] - 1s 17us/step - loss: 0.1539 - acc: 0.9549 - val_loss: 0.2325 - val_acc: 0.9428\n",
            "Epoch 80/100\n",
            "54000/54000 [==============================] - 1s 16us/step - loss: 0.1610 - acc: 0.9535 - val_loss: 0.2524 - val_acc: 0.9388\n",
            "Epoch 81/100\n",
            "54000/54000 [==============================] - 1s 16us/step - loss: 0.1558 - acc: 0.9551 - val_loss: 0.2370 - val_acc: 0.9437\n",
            "Epoch 82/100\n",
            "54000/54000 [==============================] - 1s 16us/step - loss: 0.1546 - acc: 0.9558 - val_loss: 0.2318 - val_acc: 0.9433\n",
            "Epoch 83/100\n",
            "54000/54000 [==============================] - 1s 17us/step - loss: 0.1506 - acc: 0.9569 - val_loss: 0.2283 - val_acc: 0.9460\n",
            "Epoch 84/100\n",
            "54000/54000 [==============================] - 1s 16us/step - loss: 0.1483 - acc: 0.9577 - val_loss: 0.2413 - val_acc: 0.9442\n",
            "Epoch 85/100\n",
            "54000/54000 [==============================] - 1s 17us/step - loss: 0.1535 - acc: 0.9553 - val_loss: 0.2362 - val_acc: 0.9430\n",
            "Epoch 86/100\n",
            "54000/54000 [==============================] - 1s 16us/step - loss: 0.1451 - acc: 0.9580 - val_loss: 0.2461 - val_acc: 0.9437\n",
            "Epoch 87/100\n",
            "54000/54000 [==============================] - 1s 16us/step - loss: 0.1489 - acc: 0.9578 - val_loss: 0.2365 - val_acc: 0.9448\n",
            "Epoch 88/100\n",
            "54000/54000 [==============================] - 1s 17us/step - loss: 0.1473 - acc: 0.9579 - val_loss: 0.2342 - val_acc: 0.9435\n",
            "Epoch 89/100\n",
            "54000/54000 [==============================] - 1s 18us/step - loss: 0.1465 - acc: 0.9576 - val_loss: 0.2475 - val_acc: 0.9442\n",
            "Epoch 90/100\n",
            "54000/54000 [==============================] - 1s 17us/step - loss: 0.1452 - acc: 0.9579 - val_loss: 0.2359 - val_acc: 0.9445\n",
            "Epoch 91/100\n",
            "54000/54000 [==============================] - 1s 18us/step - loss: 0.1499 - acc: 0.9568 - val_loss: 0.2454 - val_acc: 0.9437\n",
            "Epoch 92/100\n",
            "54000/54000 [==============================] - 1s 17us/step - loss: 0.1438 - acc: 0.9586 - val_loss: 0.2373 - val_acc: 0.9435\n",
            "Epoch 93/100\n",
            "54000/54000 [==============================] - 1s 16us/step - loss: 0.1432 - acc: 0.9585 - val_loss: 0.2383 - val_acc: 0.9448\n",
            "Epoch 94/100\n",
            "54000/54000 [==============================] - 1s 16us/step - loss: 0.1443 - acc: 0.9579 - val_loss: 0.2353 - val_acc: 0.9447\n",
            "Epoch 95/100\n",
            "54000/54000 [==============================] - 1s 17us/step - loss: 0.1498 - acc: 0.9558 - val_loss: 0.2433 - val_acc: 0.9437\n",
            "Epoch 96/100\n",
            "54000/54000 [==============================] - 1s 16us/step - loss: 0.1448 - acc: 0.9578 - val_loss: 0.2369 - val_acc: 0.9420\n",
            "Epoch 97/100\n",
            "54000/54000 [==============================] - 1s 16us/step - loss: 0.1413 - acc: 0.9591 - val_loss: 0.2435 - val_acc: 0.9385\n",
            "Epoch 98/100\n",
            "54000/54000 [==============================] - 1s 16us/step - loss: 0.1436 - acc: 0.9586 - val_loss: 0.2447 - val_acc: 0.9440\n",
            "Epoch 99/100\n",
            "54000/54000 [==============================] - 1s 16us/step - loss: 0.1413 - acc: 0.9591 - val_loss: 0.2468 - val_acc: 0.9423\n",
            "Epoch 100/100\n",
            "54000/54000 [==============================] - 1s 17us/step - loss: 0.1414 - acc: 0.9587 - val_loss: 0.2394 - val_acc: 0.9440\n"
          ],
          "name": "stdout"
        }
      ]
    },
    {
      "cell_type": "code",
      "metadata": {
        "id": "zGuBDSceH1Me",
        "colab_type": "code",
        "outputId": "31ef72c5-7841-4216-a63e-63ef8d32bd53",
        "colab": {
          "base_uri": "https://localhost:8080/",
          "height": 500
        }
      },
      "source": [
        "result = history.history\n",
        "x_lim = range(1,101)\n",
        "plt.figure(figsize=(10,8),facecolor='white')\n",
        "plt.plot(x_lim,result['acc'])\n",
        "plt.plot(x_lim,result['val_acc'])\n",
        "plt.legend(['acc','val_acc'])"
      ],
      "execution_count": 0,
      "outputs": [
        {
          "output_type": "execute_result",
          "data": {
            "text/plain": [
              "<matplotlib.legend.Legend at 0x7fa831831a58>"
            ]
          },
          "metadata": {
            "tags": []
          },
          "execution_count": 40
        },
        {
          "output_type": "display_data",
          "data": {
            "image/png": "[encoded data removed]",
            "text/plain": [
              "<Figure size 720x576 with 1 Axes>"
            ]
          },
          "metadata": {
            "tags": []
          }
        }
      ]
    },
    {
      "cell_type": "code",
      "metadata": {
        "id": "d67rqUFXTEQR",
        "colab_type": "code",
        "outputId": "80bd1fec-59fc-4de1-ab4b-4ab009a4aa89",
        "colab": {
          "base_uri": "https://localhost:8080/",
          "height": 69
        }
      },
      "source": [
        "model.predict(x_train[0].reshape(1,28,28))"
      ],
      "execution_count": 0,
      "outputs": [
        {
          "output_type": "execute_result",
          "data": {
            "text/plain": [
              "array([[8.5654478e-24, 3.4135914e-09, 1.1982152e-16, 6.8308182e-02,\n",
              "        8.7435724e-20, 9.3169165e-01, 3.7468151e-36, 1.2800590e-11,\n",
              "        4.6292254e-09, 5.3859079e-08]], dtype=float32)"
            ]
          },
          "metadata": {
            "tags": []
          },
          "execution_count": 41
        }
      ]
    },
    {
      "cell_type": "code",
      "metadata": {
        "id": "4NzjpVuUYD5G",
        "colab_type": "code",
        "outputId": "4f55f003-880e-4550-e1dd-c33b0129b344",
        "colab": {
          "base_uri": "https://localhost:8080/",
          "height": 282
        }
      },
      "source": [
        "plt.imshow(x_train[0])"
      ],
      "execution_count": 0,
      "outputs": [
        {
          "output_type": "execute_result",
          "data": {
            "text/plain": [
              "<matplotlib.image.AxesImage at 0x7fa831818cc0>"
            ]
          },
          "metadata": {
            "tags": []
          },
          "execution_count": 42
        },
        {
          "output_type": "display_data",
          "data": {
            "image/png": "[encoded data removed]",
            "text/plain": [
              "<Figure size 432x288 with 1 Axes>"
            ]
          },
          "metadata": {
            "tags": []
          }
        }
      ]
    },
    {
      "cell_type": "code",
      "metadata": {
        "id": "UfqhWyo3YTpZ",
        "colab_type": "code",
        "colab": {}
      },
      "source": [
        "x_train_scaled = x_train / 255"
      ],
      "execution_count": 0,
      "outputs": []
    },
    {
      "cell_type": "code",
      "metadata": {
        "id": "5jQUbhagbZhF",
        "colab_type": "code",
        "outputId": "75d91da5-fe51-4d87-8399-dd6c8c0f060c",
        "colab": {
          "base_uri": "https://localhost:8080/",
          "height": 1000
        }
      },
      "source": [
        "x_train_scaled[0]"
      ],
      "execution_count": 0,
      "outputs": [
        {
          "output_type": "execute_result",
          "data": {
            "text/plain": [
              "array([[0.        , 0.        , 0.        , 0.        , 0.        ,\n",
              "        0.        , 0.        , 0.        , 0.        , 0.        ,\n",
              "        0.        , 0.        , 0.        , 0.        , 0.        ,\n",
              "        0.        , 0.        , 0.        , 0.        , 0.        ,\n",
              "        0.        , 0.        , 0.        , 0.        , 0.        ,\n",
              "        0.        , 0.        , 0.        ],\n",
              "       [0.        , 0.        , 0.        , 0.        , 0.        ,\n",
              "        0.        , 0.        , 0.        , 0.        , 0.        ,\n",
              "        0.        , 0.        , 0.        , 0.        , 0.        ,\n",
              "        0.        , 0.        , 0.        , 0.        , 0.        ,\n",
              "        0.        , 0.        , 0.        , 0.        , 0.        ,\n",
              "        0.        , 0.        , 0.        ],\n",
              "       [0.        , 0.        , 0.        , 0.        , 0.        ,\n",
              "        0.        , 0.        , 0.        , 0.        , 0.        ,\n",
              "        0.        , 0.        , 0.        , 0.        , 0.        ,\n",
              "        0.        , 0.        , 0.        , 0.        , 0.        ,\n",
              "        0.        , 0.        , 0.        , 0.        , 0.        ,\n",
              "        0.        , 0.        , 0.        ],\n",
              "       [0.        , 0.        , 0.        , 0.        , 0.        ,\n",
              "        0.        , 0.        , 0.        , 0.        , 0.        ,\n",
              "        0.        , 0.        , 0.        , 0.        , 0.        ,\n",
              "        0.        , 0.        , 0.        , 0.        , 0.        ,\n",
              "        0.        , 0.        , 0.        , 0.        , 0.        ,\n",
              "        0.        , 0.        , 0.        ],\n",
              "       [0.        , 0.        , 0.        , 0.        , 0.        ,\n",
              "        0.        , 0.        , 0.        , 0.        , 0.        ,\n",
              "        0.        , 0.        , 0.        , 0.        , 0.        ,\n",
              "        0.        , 0.        , 0.        , 0.        , 0.        ,\n",
              "        0.        , 0.        , 0.        , 0.        , 0.        ,\n",
              "        0.        , 0.        , 0.        ],\n",
              "       [0.        , 0.        , 0.        , 0.        , 0.        ,\n",
              "        0.        , 0.        , 0.        , 0.        , 0.        ,\n",
              "        0.        , 0.        , 0.01176471, 0.07058824, 0.07058824,\n",
              "        0.07058824, 0.49411765, 0.53333333, 0.68627451, 0.10196078,\n",
              "        0.65098039, 1.        , 0.96862745, 0.49803922, 0.        ,\n",
              "        0.        , 0.        , 0.        ],\n",
              "       [0.        , 0.        , 0.        , 0.        , 0.        ,\n",
              "        0.        , 0.        , 0.        , 0.11764706, 0.14117647,\n",
              "        0.36862745, 0.60392157, 0.66666667, 0.99215686, 0.99215686,\n",
              "        0.99215686, 0.99215686, 0.99215686, 0.88235294, 0.6745098 ,\n",
              "        0.99215686, 0.94901961, 0.76470588, 0.25098039, 0.        ,\n",
              "        0.        , 0.        , 0.        ],\n",
              "       [0.        , 0.        , 0.        , 0.        , 0.        ,\n",
              "        0.        , 0.        , 0.19215686, 0.93333333, 0.99215686,\n",
              "        0.99215686, 0.99215686, 0.99215686, 0.99215686, 0.99215686,\n",
              "        0.99215686, 0.99215686, 0.98431373, 0.36470588, 0.32156863,\n",
              "        0.32156863, 0.21960784, 0.15294118, 0.        , 0.        ,\n",
              "        0.        , 0.        , 0.        ],\n",
              "       [0.        , 0.        , 0.        , 0.        , 0.        ,\n",
              "        0.        , 0.        , 0.07058824, 0.85882353, 0.99215686,\n",
              "        0.99215686, 0.99215686, 0.99215686, 0.99215686, 0.77647059,\n",
              "        0.71372549, 0.96862745, 0.94509804, 0.        , 0.        ,\n",
              "        0.        , 0.        , 0.        , 0.        , 0.        ,\n",
              "        0.        , 0.        , 0.        ],\n",
              "       [0.        , 0.        , 0.        , 0.        , 0.        ,\n",
              "        0.        , 0.        , 0.        , 0.31372549, 0.61176471,\n",
              "        0.41960784, 0.99215686, 0.99215686, 0.80392157, 0.04313725,\n",
              "        0.        , 0.16862745, 0.60392157, 0.        , 0.        ,\n",
              "        0.        , 0.        , 0.        , 0.        , 0.        ,\n",
              "        0.        , 0.        , 0.        ],\n",
              "       [0.        , 0.        , 0.        , 0.        , 0.        ,\n",
              "        0.        , 0.        , 0.        , 0.        , 0.05490196,\n",
              "        0.00392157, 0.60392157, 0.99215686, 0.35294118, 0.        ,\n",
              "        0.        , 0.        , 0.        , 0.        , 0.        ,\n",
              "        0.        , 0.        , 0.        , 0.        , 0.        ,\n",
              "        0.        , 0.        , 0.        ],\n",
              "       [0.        , 0.        , 0.        , 0.        , 0.        ,\n",
              "        0.        , 0.        , 0.        , 0.        , 0.        ,\n",
              "        0.        , 0.54509804, 0.99215686, 0.74509804, 0.00784314,\n",
              "        0.        , 0.        , 0.        , 0.        , 0.        ,\n",
              "        0.        , 0.        , 0.        , 0.        , 0.        ,\n",
              "        0.        , 0.        , 0.        ],\n",
              "       [0.        , 0.        , 0.        , 0.        , 0.        ,\n",
              "        0.        , 0.        , 0.        , 0.        , 0.        ,\n",
              "        0.        , 0.04313725, 0.74509804, 0.99215686, 0.2745098 ,\n",
              "        0.        , 0.        , 0.        , 0.        , 0.        ,\n",
              "        0.        , 0.        , 0.        , 0.        , 0.        ,\n",
              "        0.        , 0.        , 0.        ],\n",
              "       [0.        , 0.        , 0.        , 0.        , 0.        ,\n",
              "        0.        , 0.        , 0.        , 0.        , 0.        ,\n",
              "        0.        , 0.        , 0.1372549 , 0.94509804, 0.88235294,\n",
              "        0.62745098, 0.42352941, 0.00392157, 0.        , 0.        ,\n",
              "        0.        , 0.        , 0.        , 0.        , 0.        ,\n",
              "        0.        , 0.        , 0.        ],\n",
              "       [0.        , 0.        , 0.        , 0.        , 0.        ,\n",
              "        0.        , 0.        , 0.        , 0.        , 0.        ,\n",
              "        0.        , 0.        , 0.        , 0.31764706, 0.94117647,\n",
              "        0.99215686, 0.99215686, 0.46666667, 0.09803922, 0.        ,\n",
              "        0.        , 0.        , 0.        , 0.        , 0.        ,\n",
              "        0.        , 0.        , 0.        ],\n",
              "       [0.        , 0.        , 0.        , 0.        , 0.        ,\n",
              "        0.        , 0.        , 0.        , 0.        , 0.        ,\n",
              "        0.        , 0.        , 0.        , 0.        , 0.17647059,\n",
              "        0.72941176, 0.99215686, 0.99215686, 0.58823529, 0.10588235,\n",
              "        0.        , 0.        , 0.        , 0.        , 0.        ,\n",
              "        0.        , 0.        , 0.        ],\n",
              "       [0.        , 0.        , 0.        , 0.        , 0.        ,\n",
              "        0.        , 0.        , 0.        , 0.        , 0.        ,\n",
              "        0.        , 0.        , 0.        , 0.        , 0.        ,\n",
              "        0.0627451 , 0.36470588, 0.98823529, 0.99215686, 0.73333333,\n",
              "        0.        , 0.        , 0.        , 0.        , 0.        ,\n",
              "        0.        , 0.        , 0.        ],\n",
              "       [0.        , 0.        , 0.        , 0.        , 0.        ,\n",
              "        0.        , 0.        , 0.        , 0.        , 0.        ,\n",
              "        0.        , 0.        , 0.        , 0.        , 0.        ,\n",
              "        0.        , 0.        , 0.97647059, 0.99215686, 0.97647059,\n",
              "        0.25098039, 0.        , 0.        , 0.        , 0.        ,\n",
              "        0.        , 0.        , 0.        ],\n",
              "       [0.        , 0.        , 0.        , 0.        , 0.        ,\n",
              "        0.        , 0.        , 0.        , 0.        , 0.        ,\n",
              "        0.        , 0.        , 0.        , 0.        , 0.18039216,\n",
              "        0.50980392, 0.71764706, 0.99215686, 0.99215686, 0.81176471,\n",
              "        0.00784314, 0.        , 0.        , 0.        , 0.        ,\n",
              "        0.        , 0.        , 0.        ],\n",
              "       [0.        , 0.        , 0.        , 0.        , 0.        ,\n",
              "        0.        , 0.        , 0.        , 0.        , 0.        ,\n",
              "        0.        , 0.        , 0.15294118, 0.58039216, 0.89803922,\n",
              "        0.99215686, 0.99215686, 0.99215686, 0.98039216, 0.71372549,\n",
              "        0.        , 0.        , 0.        , 0.        , 0.        ,\n",
              "        0.        , 0.        , 0.        ],\n",
              "       [0.        , 0.        , 0.        , 0.        , 0.        ,\n",
              "        0.        , 0.        , 0.        , 0.        , 0.        ,\n",
              "        0.09411765, 0.44705882, 0.86666667, 0.99215686, 0.99215686,\n",
              "        0.99215686, 0.99215686, 0.78823529, 0.30588235, 0.        ,\n",
              "        0.        , 0.        , 0.        , 0.        , 0.        ,\n",
              "        0.        , 0.        , 0.        ],\n",
              "       [0.        , 0.        , 0.        , 0.        , 0.        ,\n",
              "        0.        , 0.        , 0.        , 0.09019608, 0.25882353,\n",
              "        0.83529412, 0.99215686, 0.99215686, 0.99215686, 0.99215686,\n",
              "        0.77647059, 0.31764706, 0.00784314, 0.        , 0.        ,\n",
              "        0.        , 0.        , 0.        , 0.        , 0.        ,\n",
              "        0.        , 0.        , 0.        ],\n",
              "       [0.        , 0.        , 0.        , 0.        , 0.        ,\n",
              "        0.        , 0.07058824, 0.67058824, 0.85882353, 0.99215686,\n",
              "        0.99215686, 0.99215686, 0.99215686, 0.76470588, 0.31372549,\n",
              "        0.03529412, 0.        , 0.        , 0.        , 0.        ,\n",
              "        0.        , 0.        , 0.        , 0.        , 0.        ,\n",
              "        0.        , 0.        , 0.        ],\n",
              "       [0.        , 0.        , 0.        , 0.        , 0.21568627,\n",
              "        0.6745098 , 0.88627451, 0.99215686, 0.99215686, 0.99215686,\n",
              "        0.99215686, 0.95686275, 0.52156863, 0.04313725, 0.        ,\n",
              "        0.        , 0.        , 0.        , 0.        , 0.        ,\n",
              "        0.        , 0.        , 0.        , 0.        , 0.        ,\n",
              "        0.        , 0.        , 0.        ],\n",
              "       [0.        , 0.        , 0.        , 0.        , 0.53333333,\n",
              "        0.99215686, 0.99215686, 0.99215686, 0.83137255, 0.52941176,\n",
              "        0.51764706, 0.0627451 , 0.        , 0.        , 0.        ,\n",
              "        0.        , 0.        , 0.        , 0.        , 0.        ,\n",
              "        0.        , 0.        , 0.        , 0.        , 0.        ,\n",
              "        0.        , 0.        , 0.        ],\n",
              "       [0.        , 0.        , 0.        , 0.        , 0.        ,\n",
              "        0.        , 0.        , 0.        , 0.        , 0.        ,\n",
              "        0.        , 0.        , 0.        , 0.        , 0.        ,\n",
              "        0.        , 0.        , 0.        , 0.        , 0.        ,\n",
              "        0.        , 0.        , 0.        , 0.        , 0.        ,\n",
              "        0.        , 0.        , 0.        ],\n",
              "       [0.        , 0.        , 0.        , 0.        , 0.        ,\n",
              "        0.        , 0.        , 0.        , 0.        , 0.        ,\n",
              "        0.        , 0.        , 0.        , 0.        , 0.        ,\n",
              "        0.        , 0.        , 0.        , 0.        , 0.        ,\n",
              "        0.        , 0.        , 0.        , 0.        , 0.        ,\n",
              "        0.        , 0.        , 0.        ],\n",
              "       [0.        , 0.        , 0.        , 0.        , 0.        ,\n",
              "        0.        , 0.        , 0.        , 0.        , 0.        ,\n",
              "        0.        , 0.        , 0.        , 0.        , 0.        ,\n",
              "        0.        , 0.        , 0.        , 0.        , 0.        ,\n",
              "        0.        , 0.        , 0.        , 0.        , 0.        ,\n",
              "        0.        , 0.        , 0.        ]])"
            ]
          },
          "metadata": {
            "tags": []
          },
          "execution_count": 44
        }
      ]
    },
    {
      "cell_type": "code",
      "metadata": {
        "id": "Kqm8CSnxbamj",
        "colab_type": "code",
        "outputId": "a476c47b-45b9-41d7-fd8b-520c1a18d98f",
        "colab": {
          "base_uri": "https://localhost:8080/",
          "height": 1000
        }
      },
      "source": [
        "model.compile(loss='categorical_crossentropy',optimizer=\"Adam\",metrics= ['acc'])\n",
        "history = model.fit(x_train_scaled,y_train_oh,epochs=100, batch_size=256, validation_split=0.1,verbose=2)"
      ],
      "execution_count": 0,
      "outputs": [
        {
          "output_type": "stream",
          "text": [
            "Train on 54000 samples, validate on 6000 samples\n",
            "Epoch 1/100\n",
            " - 2s - loss: 1.7238 - acc: 0.5375 - val_loss: 0.6116 - val_acc: 0.8337\n",
            "Epoch 2/100\n",
            " - 1s - loss: 0.5070 - acc: 0.8521 - val_loss: 0.3516 - val_acc: 0.9013\n",
            "Epoch 3/100\n",
            " - 1s - loss: 0.3652 - acc: 0.8951 - val_loss: 0.2847 - val_acc: 0.9225\n",
            "Epoch 4/100\n",
            " - 1s - loss: 0.3095 - acc: 0.9116 - val_loss: 0.2458 - val_acc: 0.9303\n",
            "Epoch 5/100\n",
            " - 1s - loss: 0.2757 - acc: 0.9216 - val_loss: 0.2225 - val_acc: 0.9383\n",
            "Epoch 6/100\n",
            " - 1s - loss: 0.2536 - acc: 0.9281 - val_loss: 0.2089 - val_acc: 0.9422\n",
            "Epoch 7/100\n",
            " - 1s - loss: 0.2388 - acc: 0.9328 - val_loss: 0.2008 - val_acc: 0.9445\n",
            "Epoch 8/100\n",
            " - 1s - loss: 0.2283 - acc: 0.9350 - val_loss: 0.1988 - val_acc: 0.9445\n",
            "Epoch 9/100\n",
            " - 1s - loss: 0.2180 - acc: 0.9378 - val_loss: 0.1896 - val_acc: 0.9475\n",
            "Epoch 10/100\n",
            " - 1s - loss: 0.2113 - acc: 0.9397 - val_loss: 0.1880 - val_acc: 0.9468\n",
            "Epoch 11/100\n",
            " - 1s - loss: 0.2059 - acc: 0.9421 - val_loss: 0.1866 - val_acc: 0.9488\n",
            "Epoch 12/100\n",
            " - 1s - loss: 0.1999 - acc: 0.9427 - val_loss: 0.1814 - val_acc: 0.9478\n",
            "Epoch 13/100\n",
            " - 1s - loss: 0.1943 - acc: 0.9441 - val_loss: 0.1792 - val_acc: 0.9510\n",
            "Epoch 14/100\n",
            " - 1s - loss: 0.1918 - acc: 0.9453 - val_loss: 0.1766 - val_acc: 0.9497\n",
            "Epoch 15/100\n",
            " - 1s - loss: 0.1867 - acc: 0.9463 - val_loss: 0.1760 - val_acc: 0.9490\n",
            "Epoch 16/100\n",
            " - 1s - loss: 0.1829 - acc: 0.9474 - val_loss: 0.1731 - val_acc: 0.9512\n",
            "Epoch 17/100\n",
            " - 1s - loss: 0.1801 - acc: 0.9480 - val_loss: 0.1721 - val_acc: 0.9517\n",
            "Epoch 18/100\n",
            " - 1s - loss: 0.1773 - acc: 0.9491 - val_loss: 0.1698 - val_acc: 0.9507\n",
            "Epoch 19/100\n",
            " - 1s - loss: 0.1738 - acc: 0.9496 - val_loss: 0.1689 - val_acc: 0.9512\n",
            "Epoch 20/100\n",
            " - 1s - loss: 0.1712 - acc: 0.9507 - val_loss: 0.1697 - val_acc: 0.9510\n",
            "Epoch 21/100\n",
            " - 1s - loss: 0.1685 - acc: 0.9513 - val_loss: 0.1659 - val_acc: 0.9522\n",
            "Epoch 22/100\n",
            " - 1s - loss: 0.1659 - acc: 0.9520 - val_loss: 0.1668 - val_acc: 0.9512\n",
            "Epoch 23/100\n",
            " - 1s - loss: 0.1635 - acc: 0.9519 - val_loss: 0.1702 - val_acc: 0.9503\n",
            "Epoch 24/100\n",
            " - 1s - loss: 0.1616 - acc: 0.9532 - val_loss: 0.1695 - val_acc: 0.9527\n",
            "Epoch 25/100\n",
            " - 1s - loss: 0.1598 - acc: 0.9535 - val_loss: 0.1664 - val_acc: 0.9510\n",
            "Epoch 26/100\n",
            " - 1s - loss: 0.1571 - acc: 0.9542 - val_loss: 0.1638 - val_acc: 0.9530\n",
            "Epoch 27/100\n",
            " - 1s - loss: 0.1555 - acc: 0.9544 - val_loss: 0.1630 - val_acc: 0.9527\n",
            "Epoch 28/100\n",
            " - 1s - loss: 0.1540 - acc: 0.9554 - val_loss: 0.1609 - val_acc: 0.9535\n",
            "Epoch 29/100\n",
            " - 1s - loss: 0.1524 - acc: 0.9556 - val_loss: 0.1609 - val_acc: 0.9542\n",
            "Epoch 30/100\n",
            " - 1s - loss: 0.1506 - acc: 0.9560 - val_loss: 0.1596 - val_acc: 0.9557\n",
            "Epoch 31/100\n",
            " - 1s - loss: 0.1483 - acc: 0.9571 - val_loss: 0.1619 - val_acc: 0.9540\n",
            "Epoch 32/100\n",
            " - 1s - loss: 0.1472 - acc: 0.9572 - val_loss: 0.1614 - val_acc: 0.9548\n",
            "Epoch 33/100\n",
            " - 1s - loss: 0.1453 - acc: 0.9574 - val_loss: 0.1625 - val_acc: 0.9550\n",
            "Epoch 34/100\n",
            " - 1s - loss: 0.1441 - acc: 0.9582 - val_loss: 0.1652 - val_acc: 0.9512\n",
            "Epoch 35/100\n",
            " - 1s - loss: 0.1429 - acc: 0.9582 - val_loss: 0.1615 - val_acc: 0.9545\n",
            "Epoch 36/100\n",
            " - 1s - loss: 0.1410 - acc: 0.9587 - val_loss: 0.1627 - val_acc: 0.9557\n",
            "Epoch 37/100\n",
            " - 1s - loss: 0.1396 - acc: 0.9586 - val_loss: 0.1581 - val_acc: 0.9557\n",
            "Epoch 38/100\n",
            " - 1s - loss: 0.1391 - acc: 0.9591 - val_loss: 0.1557 - val_acc: 0.9568\n",
            "Epoch 39/100\n",
            " - 1s - loss: 0.1371 - acc: 0.9594 - val_loss: 0.1585 - val_acc: 0.9540\n",
            "Epoch 40/100\n",
            " - 1s - loss: 0.1366 - acc: 0.9597 - val_loss: 0.1583 - val_acc: 0.9558\n",
            "Epoch 41/100\n",
            " - 1s - loss: 0.1350 - acc: 0.9602 - val_loss: 0.1546 - val_acc: 0.9568\n",
            "Epoch 42/100\n",
            " - 1s - loss: 0.1340 - acc: 0.9601 - val_loss: 0.1560 - val_acc: 0.9550\n",
            "Epoch 43/100\n",
            " - 1s - loss: 0.1318 - acc: 0.9611 - val_loss: 0.1558 - val_acc: 0.9572\n",
            "Epoch 44/100\n",
            " - 1s - loss: 0.1313 - acc: 0.9612 - val_loss: 0.1567 - val_acc: 0.9575\n",
            "Epoch 45/100\n",
            " - 1s - loss: 0.1300 - acc: 0.9620 - val_loss: 0.1579 - val_acc: 0.9543\n",
            "Epoch 46/100\n",
            " - 1s - loss: 0.1287 - acc: 0.9619 - val_loss: 0.1582 - val_acc: 0.9557\n",
            "Epoch 47/100\n",
            " - 1s - loss: 0.1280 - acc: 0.9615 - val_loss: 0.1568 - val_acc: 0.9555\n",
            "Epoch 48/100\n",
            " - 1s - loss: 0.1267 - acc: 0.9621 - val_loss: 0.1572 - val_acc: 0.9548\n",
            "Epoch 49/100\n",
            " - 1s - loss: 0.1257 - acc: 0.9627 - val_loss: 0.1563 - val_acc: 0.9555\n",
            "Epoch 50/100\n",
            " - 1s - loss: 0.1244 - acc: 0.9630 - val_loss: 0.1588 - val_acc: 0.9560\n",
            "Epoch 51/100\n",
            " - 1s - loss: 0.1248 - acc: 0.9625 - val_loss: 0.1568 - val_acc: 0.9573\n",
            "Epoch 52/100\n",
            " - 1s - loss: 0.1228 - acc: 0.9633 - val_loss: 0.1561 - val_acc: 0.9560\n",
            "Epoch 53/100\n",
            " - 1s - loss: 0.1212 - acc: 0.9636 - val_loss: 0.1588 - val_acc: 0.9548\n",
            "Epoch 54/100\n",
            " - 1s - loss: 0.1202 - acc: 0.9641 - val_loss: 0.1564 - val_acc: 0.9563\n",
            "Epoch 55/100\n",
            " - 1s - loss: 0.1193 - acc: 0.9643 - val_loss: 0.1546 - val_acc: 0.9570\n",
            "Epoch 56/100\n",
            " - 1s - loss: 0.1183 - acc: 0.9641 - val_loss: 0.1550 - val_acc: 0.9573\n",
            "Epoch 57/100\n",
            " - 1s - loss: 0.1177 - acc: 0.9651 - val_loss: 0.1568 - val_acc: 0.9567\n",
            "Epoch 58/100\n",
            " - 1s - loss: 0.1166 - acc: 0.9646 - val_loss: 0.1571 - val_acc: 0.9562\n",
            "Epoch 59/100\n",
            " - 1s - loss: 0.1166 - acc: 0.9652 - val_loss: 0.1576 - val_acc: 0.9567\n",
            "Epoch 60/100\n",
            " - 1s - loss: 0.1144 - acc: 0.9659 - val_loss: 0.1572 - val_acc: 0.9560\n",
            "Epoch 61/100\n",
            " - 1s - loss: 0.1138 - acc: 0.9659 - val_loss: 0.1566 - val_acc: 0.9560\n",
            "Epoch 62/100\n",
            " - 1s - loss: 0.1143 - acc: 0.9655 - val_loss: 0.1534 - val_acc: 0.9588\n",
            "Epoch 63/100\n",
            " - 1s - loss: 0.1125 - acc: 0.9666 - val_loss: 0.1557 - val_acc: 0.9577\n",
            "Epoch 64/100\n",
            " - 1s - loss: 0.1119 - acc: 0.9670 - val_loss: 0.1565 - val_acc: 0.9568\n",
            "Epoch 65/100\n",
            " - 1s - loss: 0.1123 - acc: 0.9663 - val_loss: 0.1569 - val_acc: 0.9567\n",
            "Epoch 66/100\n",
            " - 1s - loss: 0.1106 - acc: 0.9669 - val_loss: 0.1582 - val_acc: 0.9568\n",
            "Epoch 67/100\n",
            " - 1s - loss: 0.1101 - acc: 0.9668 - val_loss: 0.1563 - val_acc: 0.9578\n",
            "Epoch 68/100\n",
            " - 1s - loss: 0.1095 - acc: 0.9673 - val_loss: 0.1598 - val_acc: 0.9563\n",
            "Epoch 69/100\n",
            " - 1s - loss: 0.1086 - acc: 0.9676 - val_loss: 0.1589 - val_acc: 0.9590\n",
            "Epoch 70/100\n",
            " - 1s - loss: 0.1081 - acc: 0.9673 - val_loss: 0.1675 - val_acc: 0.9555\n",
            "Epoch 71/100\n",
            " - 1s - loss: 0.1077 - acc: 0.9680 - val_loss: 0.1595 - val_acc: 0.9553\n",
            "Epoch 72/100\n",
            " - 1s - loss: 0.1067 - acc: 0.9682 - val_loss: 0.1591 - val_acc: 0.9565\n",
            "Epoch 73/100\n",
            " - 1s - loss: 0.1066 - acc: 0.9677 - val_loss: 0.1582 - val_acc: 0.9580\n",
            "Epoch 74/100\n",
            " - 1s - loss: 0.1053 - acc: 0.9687 - val_loss: 0.1600 - val_acc: 0.9582\n",
            "Epoch 75/100\n",
            " - 1s - loss: 0.1040 - acc: 0.9692 - val_loss: 0.1606 - val_acc: 0.9563\n",
            "Epoch 76/100\n",
            " - 1s - loss: 0.1046 - acc: 0.9689 - val_loss: 0.1607 - val_acc: 0.9567\n",
            "Epoch 77/100\n",
            " - 1s - loss: 0.1035 - acc: 0.9686 - val_loss: 0.1616 - val_acc: 0.9558\n",
            "Epoch 78/100\n",
            " - 1s - loss: 0.1031 - acc: 0.9695 - val_loss: 0.1617 - val_acc: 0.9575\n",
            "Epoch 79/100\n",
            " - 1s - loss: 0.1031 - acc: 0.9690 - val_loss: 0.1625 - val_acc: 0.9570\n",
            "Epoch 80/100\n",
            " - 1s - loss: 0.1023 - acc: 0.9700 - val_loss: 0.1654 - val_acc: 0.9582\n",
            "Epoch 81/100\n",
            " - 1s - loss: 0.1017 - acc: 0.9696 - val_loss: 0.1617 - val_acc: 0.9567\n",
            "Epoch 82/100\n",
            " - 1s - loss: 0.1011 - acc: 0.9696 - val_loss: 0.1664 - val_acc: 0.9557\n",
            "Epoch 83/100\n",
            " - 1s - loss: 0.1004 - acc: 0.9701 - val_loss: 0.1644 - val_acc: 0.9567\n",
            "Epoch 84/100\n",
            " - 1s - loss: 0.1005 - acc: 0.9699 - val_loss: 0.1644 - val_acc: 0.9563\n",
            "Epoch 85/100\n",
            " - 1s - loss: 0.1003 - acc: 0.9702 - val_loss: 0.1640 - val_acc: 0.9580\n",
            "Epoch 86/100\n",
            " - 1s - loss: 0.0996 - acc: 0.9702 - val_loss: 0.1654 - val_acc: 0.9558\n",
            "Epoch 87/100\n",
            " - 1s - loss: 0.0990 - acc: 0.9703 - val_loss: 0.1658 - val_acc: 0.9562\n",
            "Epoch 88/100\n",
            " - 1s - loss: 0.0976 - acc: 0.9707 - val_loss: 0.1658 - val_acc: 0.9572\n",
            "Epoch 89/100\n",
            " - 1s - loss: 0.0976 - acc: 0.9712 - val_loss: 0.1698 - val_acc: 0.9567\n",
            "Epoch 90/100\n",
            " - 1s - loss: 0.0979 - acc: 0.9709 - val_loss: 0.1680 - val_acc: 0.9558\n",
            "Epoch 91/100\n",
            " - 1s - loss: 0.0980 - acc: 0.9705 - val_loss: 0.1679 - val_acc: 0.9562\n",
            "Epoch 92/100\n",
            " - 1s - loss: 0.0968 - acc: 0.9717 - val_loss: 0.1680 - val_acc: 0.9567\n",
            "Epoch 93/100\n",
            " - 1s - loss: 0.0961 - acc: 0.9714 - val_loss: 0.1692 - val_acc: 0.9550\n",
            "Epoch 94/100\n",
            " - 1s - loss: 0.0955 - acc: 0.9711 - val_loss: 0.1690 - val_acc: 0.9565\n",
            "Epoch 95/100\n",
            " - 1s - loss: 0.0955 - acc: 0.9714 - val_loss: 0.1703 - val_acc: 0.9563\n",
            "Epoch 96/100\n",
            " - 1s - loss: 0.0950 - acc: 0.9718 - val_loss: 0.1687 - val_acc: 0.9567\n",
            "Epoch 97/100\n",
            " - 1s - loss: 0.0941 - acc: 0.9719 - val_loss: 0.1705 - val_acc: 0.9568\n",
            "Epoch 98/100\n",
            " - 1s - loss: 0.0936 - acc: 0.9722 - val_loss: 0.1729 - val_acc: 0.9565\n",
            "Epoch 99/100\n",
            " - 1s - loss: 0.0935 - acc: 0.9723 - val_loss: 0.1723 - val_acc: 0.9552\n",
            "Epoch 100/100\n",
            " - 1s - loss: 0.0940 - acc: 0.9720 - val_loss: 0.1738 - val_acc: 0.9560\n"
          ],
          "name": "stdout"
        }
      ]
    },
    {
      "cell_type": "code",
      "metadata": {
        "id": "uuSKb5v-bpez",
        "colab_type": "code",
        "outputId": "e3064dfb-79ce-4d3d-858b-c24bc0799e89",
        "colab": {
          "base_uri": "https://localhost:8080/",
          "height": 502
        }
      },
      "source": [
        "result = history.history\n",
        "x_lim = range(1,101)\n",
        "plt.figure(figsize=(10,8),facecolor='white')\n",
        "plt.plot(x_lim,result['loss'])\n",
        "plt.plot(x_lim,result['val_loss'])\n",
        "plt.legend(['loss','val_loss'])"
      ],
      "execution_count": 0,
      "outputs": [
        {
          "output_type": "execute_result",
          "data": {
            "text/plain": [
              "<matplotlib.legend.Legend at 0x7fa8316334a8>"
            ]
          },
          "metadata": {
            "tags": []
          },
          "execution_count": 46
        },
        {
          "output_type": "display_data",
          "data": {
            "image/png": "[encoded data removed]",
            "text/plain": [
              "<Figure size 720x576 with 1 Axes>"
            ]
          },
          "metadata": {
            "tags": []
          }
        }
      ]
    },
    {
      "cell_type": "code",
      "metadata": {
        "id": "AXyjtr6-crzr",
        "colab_type": "code",
        "outputId": "ee5a93e7-057b-42e9-90b7-65a746386933",
        "colab": {
          "base_uri": "https://localhost:8080/",
          "height": 437
        }
      },
      "source": [
        "model = models.Sequential()\n",
        "model.add(layers.Flatten(input_shape=(28,28)) )\n",
        "model.add(layers.Dense(16))\n",
        "model.add(layers.ReLU())\n",
        "\n",
        "\n",
        "model.add(layers.Dense(16))\n",
        "model.add(layers.ReLU())\n",
        "model.add(layers.Dropout(0.3))\n",
        "\n",
        "model.add(layers.Dense(10))\n",
        "model.add(layers.Softmax())\n",
        "model.summary()"
      ],
      "execution_count": 0,
      "outputs": [
        {
          "output_type": "stream",
          "text": [
            "Model: \"sequential_6\"\n",
            "_________________________________________________________________\n",
            "Layer (type)                 Output Shape              Param #   \n",
            "=================================================================\n",
            "flatten_6 (Flatten)          (None, 784)               0         \n",
            "_________________________________________________________________\n",
            "dense_15 (Dense)             (None, 16)                12560     \n",
            "_________________________________________________________________\n",
            "re_lu_10 (ReLU)              (None, 16)                0         \n",
            "_________________________________________________________________\n",
            "dense_16 (Dense)             (None, 16)                272       \n",
            "_________________________________________________________________\n",
            "re_lu_11 (ReLU)              (None, 16)                0         \n",
            "_________________________________________________________________\n",
            "dropout_2 (Dropout)          (None, 16)                0         \n",
            "_________________________________________________________________\n",
            "dense_17 (Dense)             (None, 10)                170       \n",
            "_________________________________________________________________\n",
            "softmax_6 (Softmax)          (None, 10)                0         \n",
            "=================================================================\n",
            "Total params: 13,002\n",
            "Trainable params: 13,002\n",
            "Non-trainable params: 0\n",
            "_________________________________________________________________\n"
          ],
          "name": "stdout"
        }
      ]
    },
    {
      "cell_type": "code",
      "metadata": {
        "id": "--efWsZ6dM-Z",
        "colab_type": "code",
        "outputId": "b4f011ea-4eaa-4c3a-d1ce-eb2ad5670fd8",
        "colab": {
          "base_uri": "https://localhost:8080/",
          "height": 1000
        }
      },
      "source": [
        "model.compile(loss='categorical_crossentropy',optimizer=\"Adam\",metrics= ['acc'])\n",
        "history = model.fit(x_train_scaled,y_train_oh,epochs=50, batch_size=256, validation_split=0.1,verbose=2)"
      ],
      "execution_count": 0,
      "outputs": [
        {
          "output_type": "stream",
          "text": [
            "Train on 54000 samples, validate on 6000 samples\n",
            "Epoch 1/50\n",
            " - 2s - loss: 1.3014 - acc: 0.5660 - val_loss: 0.4365 - val_acc: 0.8993\n",
            "Epoch 2/50\n",
            " - 1s - loss: 0.6634 - acc: 0.7895 - val_loss: 0.2978 - val_acc: 0.9243\n",
            "Epoch 3/50\n",
            " - 1s - loss: 0.5580 - acc: 0.8258 - val_loss: 0.2530 - val_acc: 0.9328\n",
            "Epoch 4/50\n",
            " - 1s - loss: 0.5052 - acc: 0.8443 - val_loss: 0.2384 - val_acc: 0.9347\n",
            "Epoch 5/50\n",
            " - 1s - loss: 0.4706 - acc: 0.8562 - val_loss: 0.2190 - val_acc: 0.9393\n",
            "Epoch 6/50\n",
            " - 1s - loss: 0.4471 - acc: 0.8639 - val_loss: 0.2140 - val_acc: 0.9408\n",
            "Epoch 7/50\n",
            " - 1s - loss: 0.4257 - acc: 0.8682 - val_loss: 0.2074 - val_acc: 0.9387\n",
            "Epoch 8/50\n",
            " - 1s - loss: 0.4137 - acc: 0.8734 - val_loss: 0.1998 - val_acc: 0.9427\n",
            "Epoch 9/50\n",
            " - 1s - loss: 0.3990 - acc: 0.8755 - val_loss: 0.1937 - val_acc: 0.9445\n",
            "Epoch 10/50\n",
            " - 1s - loss: 0.3907 - acc: 0.8811 - val_loss: 0.1910 - val_acc: 0.9452\n",
            "Epoch 11/50\n",
            " - 1s - loss: 0.3773 - acc: 0.8846 - val_loss: 0.1904 - val_acc: 0.9437\n",
            "Epoch 12/50\n",
            " - 1s - loss: 0.3740 - acc: 0.8836 - val_loss: 0.1865 - val_acc: 0.9440\n",
            "Epoch 13/50\n",
            " - 1s - loss: 0.3613 - acc: 0.8897 - val_loss: 0.1827 - val_acc: 0.9453\n",
            "Epoch 14/50\n",
            " - 1s - loss: 0.3535 - acc: 0.8901 - val_loss: 0.1789 - val_acc: 0.9488\n",
            "Epoch 15/50\n",
            " - 1s - loss: 0.3482 - acc: 0.8929 - val_loss: 0.1755 - val_acc: 0.9495\n",
            "Epoch 16/50\n",
            " - 1s - loss: 0.3433 - acc: 0.8944 - val_loss: 0.1728 - val_acc: 0.9510\n",
            "Epoch 17/50\n",
            " - 1s - loss: 0.3382 - acc: 0.8967 - val_loss: 0.1715 - val_acc: 0.9510\n",
            "Epoch 18/50\n",
            " - 1s - loss: 0.3290 - acc: 0.8986 - val_loss: 0.1705 - val_acc: 0.9472\n",
            "Epoch 19/50\n",
            " - 1s - loss: 0.3269 - acc: 0.8994 - val_loss: 0.1669 - val_acc: 0.9507\n",
            "Epoch 20/50\n",
            " - 1s - loss: 0.3229 - acc: 0.8987 - val_loss: 0.1684 - val_acc: 0.9523\n",
            "Epoch 21/50\n",
            " - 1s - loss: 0.3142 - acc: 0.9022 - val_loss: 0.1673 - val_acc: 0.9508\n",
            "Epoch 22/50\n",
            " - 1s - loss: 0.3117 - acc: 0.9029 - val_loss: 0.1678 - val_acc: 0.9495\n",
            "Epoch 23/50\n",
            " - 1s - loss: 0.3073 - acc: 0.9048 - val_loss: 0.1637 - val_acc: 0.9517\n",
            "Epoch 24/50\n",
            " - 1s - loss: 0.3045 - acc: 0.9057 - val_loss: 0.1620 - val_acc: 0.9522\n",
            "Epoch 25/50\n",
            " - 1s - loss: 0.2997 - acc: 0.9083 - val_loss: 0.1575 - val_acc: 0.9568\n",
            "Epoch 26/50\n",
            " - 1s - loss: 0.2931 - acc: 0.9100 - val_loss: 0.1579 - val_acc: 0.9558\n",
            "Epoch 27/50\n",
            " - 1s - loss: 0.2932 - acc: 0.9100 - val_loss: 0.1597 - val_acc: 0.9530\n",
            "Epoch 28/50\n",
            " - 1s - loss: 0.2899 - acc: 0.9091 - val_loss: 0.1581 - val_acc: 0.9550\n",
            "Epoch 29/50\n",
            " - 1s - loss: 0.2843 - acc: 0.9127 - val_loss: 0.1574 - val_acc: 0.9537\n",
            "Epoch 30/50\n",
            " - 1s - loss: 0.2875 - acc: 0.9108 - val_loss: 0.1584 - val_acc: 0.9558\n",
            "Epoch 31/50\n",
            " - 1s - loss: 0.2797 - acc: 0.9128 - val_loss: 0.1610 - val_acc: 0.9557\n",
            "Epoch 32/50\n",
            " - 1s - loss: 0.2823 - acc: 0.9136 - val_loss: 0.1553 - val_acc: 0.9540\n",
            "Epoch 33/50\n",
            " - 1s - loss: 0.2756 - acc: 0.9145 - val_loss: 0.1532 - val_acc: 0.9562\n",
            "Epoch 34/50\n",
            " - 1s - loss: 0.2739 - acc: 0.9140 - val_loss: 0.1543 - val_acc: 0.9573\n",
            "Epoch 35/50\n",
            " - 1s - loss: 0.2725 - acc: 0.9163 - val_loss: 0.1571 - val_acc: 0.9572\n",
            "Epoch 36/50\n",
            " - 1s - loss: 0.2682 - acc: 0.9172 - val_loss: 0.1561 - val_acc: 0.9543\n",
            "Epoch 37/50\n",
            " - 1s - loss: 0.2652 - acc: 0.9184 - val_loss: 0.1528 - val_acc: 0.9577\n",
            "Epoch 38/50\n",
            " - 1s - loss: 0.2622 - acc: 0.9197 - val_loss: 0.1553 - val_acc: 0.9568\n",
            "Epoch 39/50\n",
            " - 1s - loss: 0.2611 - acc: 0.9191 - val_loss: 0.1537 - val_acc: 0.9567\n",
            "Epoch 40/50\n",
            " - 1s - loss: 0.2604 - acc: 0.9191 - val_loss: 0.1558 - val_acc: 0.9573\n",
            "Epoch 41/50\n",
            " - 1s - loss: 0.2546 - acc: 0.9206 - val_loss: 0.1546 - val_acc: 0.9568\n",
            "Epoch 42/50\n",
            " - 1s - loss: 0.2537 - acc: 0.9218 - val_loss: 0.1544 - val_acc: 0.9568\n",
            "Epoch 43/50\n",
            " - 1s - loss: 0.2518 - acc: 0.9222 - val_loss: 0.1553 - val_acc: 0.9575\n",
            "Epoch 44/50\n",
            " - 1s - loss: 0.2495 - acc: 0.9243 - val_loss: 0.1592 - val_acc: 0.9565\n",
            "Epoch 45/50\n",
            " - 1s - loss: 0.2516 - acc: 0.9240 - val_loss: 0.1537 - val_acc: 0.9552\n",
            "Epoch 46/50\n",
            " - 1s - loss: 0.2490 - acc: 0.9236 - val_loss: 0.1536 - val_acc: 0.9587\n",
            "Epoch 47/50\n",
            " - 1s - loss: 0.2433 - acc: 0.9254 - val_loss: 0.1548 - val_acc: 0.9580\n",
            "Epoch 48/50\n",
            " - 1s - loss: 0.2468 - acc: 0.9241 - val_loss: 0.1548 - val_acc: 0.9575\n",
            "Epoch 49/50\n",
            " - 1s - loss: 0.2429 - acc: 0.9261 - val_loss: 0.1577 - val_acc: 0.9547\n",
            "Epoch 50/50\n",
            " - 1s - loss: 0.2419 - acc: 0.9246 - val_loss: 0.1612 - val_acc: 0.9568\n"
          ],
          "name": "stdout"
        }
      ]
    },
    {
      "cell_type": "code",
      "metadata": {
        "id": "TWQUvb9QdbSg",
        "colab_type": "code",
        "outputId": "96acda20-0913-4b8f-b7b8-15b444df7994",
        "colab": {
          "base_uri": "https://localhost:8080/",
          "height": 500
        }
      },
      "source": [
        "result = history.history\n",
        "x_lim = range(1,51)\n",
        "plt.figure(figsize=(10,8),facecolor='white')\n",
        "plt.plot(x_lim,result['loss'])\n",
        "plt.plot(x_lim,result['val_loss'])\n",
        "plt.legend(['loss','val_loss'])"
      ],
      "execution_count": 0,
      "outputs": [
        {
          "output_type": "execute_result",
          "data": {
            "text/plain": [
              "<matplotlib.legend.Legend at 0x7fa83129d940>"
            ]
          },
          "metadata": {
            "tags": []
          },
          "execution_count": 52
        },
        {
          "output_type": "display_data",
          "data": {
            "image/png": "[encoded data removed]",
            "text/plain": [
              "<Figure size 720x576 with 1 Axes>"
            ]
          },
          "metadata": {
            "tags": []
          }
        }
      ]
    },
    {
      "cell_type": "code",
      "metadata": {
        "id": "tRTIWQuLePo9",
        "colab_type": "code",
        "outputId": "a22fa5b5-1cbd-41a2-8f39-5c9694623b7e",
        "colab": {
          "base_uri": "https://localhost:8080/",
          "height": 34
        }
      },
      "source": [
        "y_pred=model.predict(x_train[0].reshape(1,28,28))\n",
        "np.argmax(y_pred)"
      ],
      "execution_count": 0,
      "outputs": [
        {
          "output_type": "execute_result",
          "data": {
            "text/plain": [
              "5"
            ]
          },
          "metadata": {
            "tags": []
          },
          "execution_count": 54
        }
      ]
    },
    {
      "cell_type": "code",
      "metadata": {
        "id": "il028x_MhcOW",
        "colab_type": "code",
        "outputId": "c4f0ad76-7938-4769-c624-163550ca27c0",
        "colab": {
          "base_uri": "https://localhost:8080/",
          "height": 282
        }
      },
      "source": [
        "plt.imshow(x_train[0])"
      ],
      "execution_count": 0,
      "outputs": [
        {
          "output_type": "execute_result",
          "data": {
            "text/plain": [
              "<matplotlib.image.AxesImage at 0x7fa83120a2e8>"
            ]
          },
          "metadata": {
            "tags": []
          },
          "execution_count": 56
        },
        {
          "output_type": "display_data",
          "data": {
            "image/png": "[encoded data removed]",
            "text/plain": [
              "<Figure size 432x288 with 1 Axes>"
            ]
          },
          "metadata": {
            "tags": []
          }
        }
      ]
    },
    {
      "cell_type": "code",
      "metadata": {
        "id": "w9umWOSXh5We",
        "colab_type": "code",
        "outputId": "322a4cca-eab2-4691-e1dd-3f443b1af19a",
        "colab": {
          "base_uri": "https://localhost:8080/",
          "height": 500
        }
      },
      "source": [
        "import seaborn as sns\n",
        "plt.figure(figsize=(10,8))\n",
        "sns.heatmap(x_train[0],annot=True)"
      ],
      "execution_count": 0,
      "outputs": [
        {
          "output_type": "execute_result",
          "data": {
            "text/plain": [
              "<matplotlib.axes._subplots.AxesSubplot at 0x7fa82d6b97b8>"
            ]
          },
          "metadata": {
            "tags": []
          },
          "execution_count": 58
        },
        {
          "output_type": "display_data",
          "data": {
            "image/png": "[encoded data removed]",
            "text/plain": [
              "<Figure size 720x576 with 2 Axes>"
            ]
          },
          "metadata": {
            "tags": []
          }
        }
      ]
    },
    {
      "cell_type": "code",
      "metadata": {
        "id": "m89CLvA2icp2",
        "colab_type": "code",
        "colab": {}
      },
      "source": [
        ""
      ],
      "execution_count": 0,
      "outputs": []
    }
  ]
}